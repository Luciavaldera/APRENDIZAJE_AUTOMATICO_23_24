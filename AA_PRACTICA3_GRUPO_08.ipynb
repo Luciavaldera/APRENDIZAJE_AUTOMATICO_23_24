{
  "cells": [
    {
      "cell_type": "markdown",
      "metadata": {
        "id": "view-in-github",
        "colab_type": "text"
      },
      "source": [
        "<a href=\"https://colab.research.google.com/github/Luciavaldera/APRENDIZAJE_AUTOMATICO_23_24/blob/main/AA_PRACTICA3_GRUPO_08.ipynb\" target=\"_parent\"><img src=\"https://colab.research.google.com/assets/colab-badge.svg\" alt=\"Open In Colab\"/></a>"
      ]
    },
    {
      "cell_type": "markdown",
      "metadata": {
        "id": "Szb6XJhSUcXh"
      },
      "source": [
        "# **Redes Neuronales Convolucionales**\n",
        "\n",
        "> GRUPO A08\n",
        "\n",
        ">Lucia Valdera Gayoso, Susana Villar Polvorosa, Julia Hernández Quintas\n",
        "\n"
      ]
    },
    {
      "cell_type": "markdown",
      "metadata": {
        "id": "eOTMQV6MNW7n"
      },
      "source": [
        "\n",
        "\n",
        "> ## Introducción  \n",
        "\n",
        "En el campo del Aprendizaje Automático, las Redes de Neuronas Convolucionales (CNN) han surgido como una herramienta indispensable, demostrando su capacidad excepcional para abordar problemas complejos de clasificación y reconocimiento de patrones en imágenes.\n",
        "\n",
        " En esta práctica, nos sumergiremos en el proceso de diseño, configuración y entrenamiento de una CNN con el objetivo de reconocer y clasificar imágenes en el desafiante conjunto de datos CIFAR-100. Este conjunto de datos, compuesto por 60,000 imágenes agrupadas en 100 clases y organizadas en 20 superclases, proporciona un terreno fértil para explorar la capacidad de las CNN en la tarea de clasificación multiclase.\n",
        "\n",
        "\n",
        "El objetivo que perseguimos es desarrollar un modelo capaz de distinguir entre 100 clases distintas, cada una con su complejidad única y características visuales, intentando conseguir la mayor precisión posible. Además pretendemos dejar constancia a lo largo del proyecto de los aprendizajes, y las dificultades que nos hayan podido\n",
        "surgir."
      ]
    },
    {
      "cell_type": "markdown",
      "metadata": {
        "id": "EyiX5OmAKk0I"
      },
      "source": [
        "> ## Enunciado del problema\n",
        "\n",
        "\n",
        "* Crear un modelo de Red de Neuronas Convolucionales que sea capaz de reconocer y clasificar imágenes en 100 categorías.\n",
        "* El modelo será definido, configurado, entrenado, evaluado y mejorado para posteriormente usarlo para hacer predicciones."
      ]
    },
    {
      "cell_type": "markdown",
      "metadata": {
        "id": "2ZkL4aRvVg1Z"
      },
      "source": [
        "> ## Desarrollo del problema\n",
        "\n",
        "En primer lugar, importamos la librería keras y hacemos algunas valoraciones sobre ella. Además de keras **importamos** el resto de **librerías** que vamos a utilizar a lo largo del programa"
      ]
    },
    {
      "cell_type": "code",
      "execution_count": 21,
      "metadata": {
        "id": "p1JMu4L_k8BQ"
      },
      "outputs": [],
      "source": [
        "import tensorflow as tf\n",
        "from tensorflow import keras\n",
        "\n",
        "#Librerías para el desarrollo de la RNA\n",
        "from keras import Sequential\n",
        "from keras import layers\n",
        "from keras.layers import Conv2D, Dense, MaxPooling2D, Flatten, Dropout\n",
        "\n",
        "#Librerías para visualización de dataset\n",
        "import matplotlib.pyplot as plt\n",
        "import numpy as np\n",
        "\n",
        "# Prepraracion de etiquetas\n",
        "from keras import utils\n",
        "from keras.utils import to_categorical\n",
        "\n",
        "#Librería para matriz de confusión\n",
        "from sklearn.metrics import confusion_matrix\n",
        "\n",
        "# Librerías para ejecución del modelo\n",
        "from keras.preprocessing.image import ImageDataGenerator\n",
        "from sklearn.model_selection import train_test_split\n",
        "from tensorflow.keras.losses import categorical_crossentropy\n"
      ]
    },
    {
      "cell_type": "markdown",
      "metadata": {
        "id": "QsR5CVKbSek6"
      },
      "source": [
        "Comprobamos que la **versión de tensorflow** empleada es la 2.0.0 o superior"
      ]
    },
    {
      "cell_type": "code",
      "execution_count": 22,
      "metadata": {
        "colab": {
          "base_uri": "https://localhost:8080/"
        },
        "id": "VyUM9zJYSZoZ",
        "outputId": "00c10f8b-16de-4b5f-c5a5-0fe8f14d41e6"
      },
      "outputs": [
        {
          "output_type": "stream",
          "name": "stdout",
          "text": [
            "2.14.0\n",
            "GPU Available: [PhysicalDevice(name='/physical_device:GPU:0', device_type='GPU')]\n"
          ]
        }
      ],
      "source": [
        "if tf.__version__ < \"2.0.0\":\n",
        "  print('La versión de tensorflow no es la adecuada')\n",
        "print(tf.__version__)\n",
        "# Comprobamos también que existen GPU libres\n",
        "print(\"GPU Available:\", tf.config.list_physical_devices('GPU'))"
      ]
    },
    {
      "cell_type": "markdown",
      "metadata": {
        "id": "kGH8LG8_olEN"
      },
      "source": [
        "> ### **Carga y análisis de datos: CIFAR100**\n",
        "\n",
        "En este apartado cargamos los datos, tanto de entrenamiento como de test. El conjunto de datos empleado en este proyecto es CIFAR-100 que contiene 60.000 imágenes asociadas a cada una de las 100 clases que a su vez se agrupan en 20 superclases.\n",
        "Cada una de las 100 clases contiene 600 imágenes."
      ]
    },
    {
      "cell_type": "code",
      "execution_count": 23,
      "metadata": {
        "id": "-uOOAaPim-lb"
      },
      "outputs": [],
      "source": [
        "from keras.datasets import cifar100"
      ]
    },
    {
      "cell_type": "markdown",
      "metadata": {
        "id": "LHKKf2gXZ2ZE"
      },
      "source": [
        "A continuación cargamos los datos de CIFAR-100 que se dividen en 4 arreglos (entrenamiento y test):\n",
        "\n",
        "* Imágenes de entrenamiento: `train_images`\n",
        "* Etiquetas de las imagénes de entrenamiento: `train_labels`\n",
        "* Imágenes de test: `test_images`\n",
        "* Etiquetas de las imágenes de test: `test_labels`"
      ]
    },
    {
      "cell_type": "code",
      "execution_count": 24,
      "metadata": {
        "colab": {
          "base_uri": "https://localhost:8080/"
        },
        "id": "JPqhTgf-aAc_",
        "outputId": "c1348a0c-de98-4100-9591-f8313b9ee660"
      },
      "outputs": [
        {
          "output_type": "stream",
          "name": "stdout",
          "text": [
            "[19 29  0 ...  3  7 73]\n",
            "99\n",
            "29\n",
            "(32, 32, 3)\n"
          ]
        }
      ],
      "source": [
        "# Descargamos el conjunto de datos y dividirlo en conjuntos de entrenamiento y prueba\n",
        "(train_images, train_labels), (test_images, test_labels) = cifar100.load_data()\n",
        "\n",
        "#  Convertir las etiquetas de salida de matrices 2D a matrices 1D\n",
        "train_labels = train_labels.reshape(-1,)\n",
        "test_labels = test_labels.reshape(-1,)\n",
        "\n",
        "print(train_labels)\n",
        "print(max(train_labels))\n",
        "print(train_labels[1])\n",
        "print(train_images[0].shape)"
      ]
    },
    {
      "cell_type": "markdown",
      "metadata": {
        "id": "PoraeWtdjUFW"
      },
      "source": [
        "**COMPRENSION Y ESTUDIO DE DATATEST**\n",
        "\n",
        "Antes de comenzar cualquier proceso con la RNA, es importante estudiar y comprender bien nuestro conjunto de datos:\n"
      ]
    },
    {
      "cell_type": "markdown",
      "metadata": {
        "id": "KXU5VRxeHh-G"
      },
      "source": [
        "En primer lugar, y antes de visualizar algunas imágenes, guardaremos todas las clases con su nombre correspondiente, así como las superclases :"
      ]
    },
    {
      "cell_type": "code",
      "execution_count": 25,
      "metadata": {
        "id": "e5p9_9bGHgrj"
      },
      "outputs": [],
      "source": [
        "clases = ['manzana', 'pez_de_acuario', 'bebé', 'oso', 'castor', 'cama', 'abeja', 'escarabajo', 'bicicleta', 'botella',\n",
        "'tazón', 'niño', 'puente', 'autobús', 'mariposa', 'camello', 'lata', 'castillo', 'oruga', 'ganado',\n",
        "'silla', 'chimpancé', 'reloj', 'nube', 'cucaracha', 'sofá', 'cangrejo', 'cocodrilo', 'taza',\n",
        "'dinosaurio', 'delfín', 'elefante', 'pez_plano', 'bosque', 'zorro', 'niña', 'hámster', 'casa',\n",
        "'canguro', 'teclado', 'lámpara', 'cortacésped', 'leopardo', 'león', 'lagarto', 'langosta', 'hombre',\n",
        "'árbol_de_arce', 'motocicleta', 'montaña', 'ratón', 'seta', 'roble', 'naranja', 'orquídea',\n",
        "'nutria', 'palmera', 'pera', 'camioneta', 'pino', 'llanura', 'plato', 'adormidera', 'puercoespín',\n",
        "'zarigüeya', 'conejo', 'mapache', 'rayo', 'carretera', 'cohete', 'rosa', 'mar', 'foca', 'tiburón', 'musaraña',\n",
        "'zorrillo', 'rascacielos', 'caracol', 'serpiente', 'araña', 'ardilla', 'tranvía', 'girasol', 'pimiento_dulce',\n",
        "'mesa', 'tanque', 'teléfono', 'televisión', 'tigre', 'tractor', 'tren', 'trucha', 'tulipán', 'tortuga',\n",
        "'armario', 'ballena', 'árbol_de_sauce', 'lobo', 'mujer','gusano']\n",
        "\n",
        "diccionario_animales = {\n",
        "    'mamíferos': ['castor', 'delfín', 'nutria', 'foca', 'ballena'],\n",
        "    'pez': ['pez_de_acuario de acuario', 'pez_plano', 'raya', 'tiburón', 'trucha'],\n",
        "    'flores': ['orquídea', 'amapola', 'rosa', 'girasol', 'tulipán'],\n",
        "    'Contenedores de comida': ['botella', 'tazón', 'lata', 'taza', 'plato'],\n",
        "    'frutas y vegetales': ['manzana', 'seta', 'naranja', 'pera', 'pimiento_dulce'],\n",
        "    'aparatos electricos del hogar': ['reloj', 'teclado', 'lámpara', 'teléfono', 'televisión'],\n",
        "    'muebles para el hogar': ['cama', 'silla', 'sofá', 'mesa', 'armario'],\n",
        "    'insectos': ['abeja', 'escarabajo', 'mariposa', 'oruga', 'cucaracha'],\n",
        "    'grandes carnívoros': ['oso', 'leopardo', 'león', 'tigre', 'lobo'],\n",
        "    'grandes cosas al aire libre hechas por el hombre': ['puente', 'castillo', 'casa', 'camino', 'rascacielos'],\n",
        "    'grandes escenas naturales al aire libre': ['nube', 'bosque', 'montaña', 'llanura', 'mar'],\n",
        "    'grandes omnívoros y herbívoros': ['camello', 'ganado', 'chimpancé', 'elefante', 'canguro'],\n",
        "    'mamíferos de tamaño mediano': ['zorro', 'puercoespín', 'zarigüeya', 'mapache', 'zorrillo'],\n",
        "    'invertebrados no insectos': ['cangrejo', 'langosta', 'caracol', 'araña', 'gusano'],\n",
        "    'gente': ['bebé', 'niño', 'niña', 'hombre', 'mujer'],\n",
        "    'reptiles': ['cocodrilo', 'dinosaurio', 'lagarto', 'serpiente', 'tortuga'],\n",
        "    'pequeños mamíferos': ['hámster', 'ratón', 'conejo', 'musaraña', 'ardilla'],\n",
        "    'árboles': ['árbol_de_arce', 'roble', 'palma', 'pino', 'arbol_de_sauce'],\n",
        "    'vehículos 1': ['bicicleta', 'autobús', 'motocicleta', 'camioneta', 'tren'],\n",
        "    'vehículos 2': ['cortacésped', 'cohete', 'tranvía', 'tanque','tractor']\n",
        "}"
      ]
    },
    {
      "cell_type": "markdown",
      "metadata": {
        "id": "s6A_TATJuOm3"
      },
      "source": [
        "VISUALIZACION DE LAS IMAGENES DE TEST\n",
        "\n",
        "A continuación, visualizamos algunas de las imágenes de test, para poder entender mejor que aspecto tienen, y que cambios prodríamos aplicar:"
      ]
    },
    {
      "cell_type": "code",
      "execution_count": 26,
      "metadata": {
        "colab": {
          "base_uri": "https://localhost:8080/",
          "height": 354
        },
        "id": "aKLpT2aYF4K8",
        "outputId": "a516507f-1090-4bf5-ce04-9cf0f9270c07"
      },
      "outputs": [
        {
          "output_type": "display_data",
          "data": {
            "text/plain": [
              "<Figure size 640x480 with 20 Axes>"
            ],
            "image/png": "[encoded data removed]"
          },
          "metadata": {}
        }
      ],
      "source": [
        "for i in range(20):\n",
        "  plt.subplot(5, 5, i + 1)\n",
        "  digit = train_images[i]\n",
        "  plt.imshow(digit, cmap=plt.cm.binary)\n",
        "  plt.title(clases[train_labels[i]])\n",
        "  plt.axis('off')\n",
        "plt.show()"
      ]
    },
    {
      "cell_type": "markdown",
      "metadata": {
        "id": "nrPI9d7VF7B0"
      },
      "source": [
        "Mostramos a continuación una única imagen de entrenamiento, para poder ver el grado de borrosidad, y entender que kernel/filtro podría funcionar mejor:"
      ]
    },
    {
      "cell_type": "code",
      "execution_count": 27,
      "metadata": {
        "colab": {
          "base_uri": "https://localhost:8080/",
          "height": 430
        },
        "id": "duwD74BXuNo8",
        "outputId": "a6a36bde-15b7-476a-c819-4b15f8019823"
      },
      "outputs": [
        {
          "output_type": "display_data",
          "data": {
            "text/plain": [
              "<Figure size 640x480 with 1 Axes>"
            ],
            "image/png": "[encoded data removed]"
          },
          "metadata": {}
        }
      ],
      "source": [
        "digit = train_images[9]\n",
        "plt.imshow(digit, cmap=plt.cm.binary)\n",
        "plt.title(train_labels[9])\n",
        "plt.axis('off')\n",
        "plt.show()"
      ]
    },
    {
      "cell_type": "markdown",
      "metadata": {
        "id": "5LLTJxaVjffQ"
      },
      "source": [
        "> ### **Preprocesamiento de datos**"
      ]
    },
    {
      "cell_type": "markdown",
      "metadata": {
        "id": "QilkWIbzjgQ4"
      },
      "source": [
        "**Preprocesamiento de etiquetas**\n",
        "\n",
        "En primer lugar pasamos las etiquetas, a categoricas. Lo que haremos sera transformar la etiqueta en un vector de ceros, con un 1 en la posición del valor de esa etiqueta. Lo visualizamos a continuación:"
      ]
    },
    {
      "cell_type": "code",
      "execution_count": 28,
      "metadata": {
        "colab": {
          "base_uri": "https://localhost:8080/"
        },
        "id": "fwxkfwz3GWGb",
        "outputId": "ecf3a699-c706-49fa-ddfe-57c0f271dafe"
      },
      "outputs": [
        {
          "output_type": "stream",
          "name": "stdout",
          "text": [
            "[0. 0. 0. 0. 0. 0. 0. 0. 0. 0. 0. 0. 0. 0. 0. 0. 0. 0. 0. 1. 0. 0. 0. 0.\n",
            " 0. 0. 0. 0. 0. 0. 0. 0. 0. 0. 0. 0. 0. 0. 0. 0. 0. 0. 0. 0. 0. 0. 0. 0.\n",
            " 0. 0. 0. 0. 0. 0. 0. 0. 0. 0. 0. 0. 0. 0. 0. 0. 0. 0. 0. 0. 0. 0. 0. 0.\n",
            " 0. 0. 0. 0. 0. 0. 0. 0. 0. 0. 0. 0. 0. 0. 0. 0. 0. 0. 0. 0. 0. 0. 0. 0.\n",
            " 0. 0. 0. 0.]\n"
          ]
        }
      ],
      "source": [
        "# Transformacion de las etiquetas a one_hot_encoding\n",
        "train_labels = to_categorical(train_labels)\n",
        "test_labels = to_categorical(test_labels)\n",
        "print(train_labels[0])"
      ]
    },
    {
      "cell_type": "markdown",
      "metadata": {
        "id": "uH_Jr_iuMI5n"
      },
      "source": [
        "**Preprocesamiento de imágenes**\n",
        "\n",
        "\n",
        "A coninuación, normalizamos los valores de nuestros datos (píxeles) de entrenamiento.\n",
        "Para esto los dividiremos entre 255, quedando en un rango [0,1].\n",
        "Con esta normalización lo que conseguimos es facilitar la convergencia del modelo con un rango más pequeño y uniforme:"
      ]
    },
    {
      "cell_type": "code",
      "execution_count": 29,
      "metadata": {
        "colab": {
          "base_uri": "https://localhost:8080/"
        },
        "id": "RSbPLzJrjnAq",
        "outputId": "991ac786-32ad-47c1-a11c-46f105bc91d9"
      },
      "outputs": [
        {
          "output_type": "stream",
          "name": "stdout",
          "text": [
            "50000\n",
            "(50000, 32, 32, 3)\n"
          ]
        }
      ],
      "source": [
        "# Noramalización de los datos de entrada\n",
        "train_images = train_images/255\n",
        "test_images = test_images/255\n",
        "print(len(train_images))\n",
        "print(train_images.shape)"
      ]
    },
    {
      "cell_type": "markdown",
      "metadata": {
        "id": "SNFk-MlIqRu-"
      },
      "source": [
        "INGENIERÍA DE CARACTERÍSTICAS:\n"
      ]
    },
    {
      "cell_type": "markdown",
      "metadata": {
        "id": "KP99FzBbsBDL"
      },
      "source": [
        "Han sido varios los kernel/filtros y ajustes que hemos aplicado a las imágenes, con la intención de mejorar su identidad, y así poder mejorar la precisión.\n",
        "\n",
        "\n",
        "Sin embargo, con ninguno de los filtros probados, la mejora de la precisión era lo suficientemene buena, como para compensar el costo computacional.\n",
        "A continuación se muestran dos de los cambios aplicados, y los resultados obtenidos.\n"
      ]
    },
    {
      "cell_type": "code",
      "execution_count": 30,
      "metadata": {
        "colab": {
          "base_uri": "https://localhost:8080/",
          "height": 332
        },
        "id": "DVMVCVMQ0JQM",
        "outputId": "5a3f3d55-e02c-4d86-fb4f-2e5c4573e8f8"
      },
      "outputs": [
        {
          "output_type": "execute_result",
          "data": {
            "text/plain": [
              "Text(0.5, 1.0, 'Filter applied Image')"
            ]
          },
          "metadata": {},
          "execution_count": 30
        },
        {
          "output_type": "display_data",
          "data": {
            "text/plain": [
              "<Figure size 640x480 with 2 Axes>"
            ],
            "image/png": "[encoded data removed]"
          },
          "metadata": {}
        }
      ],
      "source": [
        "import matplotlib.pyplot as plt\n",
        "from scipy import ndimage\n",
        "from scipy.ndimage import gaussian_filter\n",
        "import matplotlib.pyplot as plt\n",
        "#!pip install scipy\n",
        "\n",
        "plt.subplot(1, 2, 1)\n",
        "plt.imshow(train_images[22])\n",
        "plt.title(\"Original Image\")\n",
        "\n",
        "image = train_images[22]\n",
        "zoomed_image = ndimage.zoom(image, (0.8 , 0.8 ,1) , order = 1)\n",
        "\n",
        "plt.subplot(1, 2, 2)\n",
        "plt.imshow(zoomed_image)\n",
        "plt.title(\"Filter applied Image\")"
      ]
    },
    {
      "cell_type": "markdown",
      "metadata": {
        "id": "Tp63RKjMyt_0"
      },
      "source": [
        "El uso del filtro Zoom, no mejora ni facilita la interpretación de nuestras imágenes, por tanto continuamos probando con diferentes kernels."
      ]
    },
    {
      "cell_type": "code",
      "execution_count": 31,
      "metadata": {
        "colab": {
          "base_uri": "https://localhost:8080/",
          "height": 332
        },
        "id": "v5lMHldTsuCx",
        "outputId": "acdfc93e-f6a0-4a6a-aa04-bec296a6cd55"
      },
      "outputs": [
        {
          "output_type": "execute_result",
          "data": {
            "text/plain": [
              "Text(0.5, 1.0, 'Filter applied Image')"
            ]
          },
          "metadata": {},
          "execution_count": 31
        },
        {
          "output_type": "display_data",
          "data": {
            "text/plain": [
              "<Figure size 640x480 with 2 Axes>"
            ],
            "image/png": "[encoded data removed]"
          },
          "metadata": {}
        }
      ],
      "source": [
        "# import matplotlib.pyplot as plt\n",
        "# from scipy import ndimage\n",
        "# from scipy.ndimage import gaussian_filter\n",
        "# import matplotlib.pyplot as plt\n",
        "# #!pip install scipy\n",
        "\n",
        "plt.subplot(1, 2, 1)\n",
        "plt.imshow(train_images[24])\n",
        "plt.title(\"Original Image\")\n",
        "\n",
        "\n",
        "image = train_images[24]\n",
        "gaussian = gaussian_filter(image, sigma=0.2)\n",
        "\n",
        "\n",
        "plt.subplot(1, 2, 2)\n",
        "plt.imshow(train_images[24])\n",
        "plt.title(\"Filter applied Image\")"
      ]
    },
    {
      "cell_type": "markdown",
      "metadata": {
        "id": "OCskNzyJwwaD"
      },
      "source": [
        "De nuevo observamos como aparentemente la imagen apenas mejora, su borrosidad sigue siendo practicamente la misma, asi como las demás características.\n",
        "\n",
        "Además, comprobamos que la precisión tras aplicar este kernel era ligeramente menor, por lo que tampoco ha sido aplicado en nuestro modelo final."
      ]
    },
    {
      "cell_type": "markdown",
      "metadata": {
        "id": "xusdY0c3ip_w"
      },
      "source": [
        "##Arquitectura de la Red:\n",
        "La elección de la arquitectura de red neuronal convolucional (CNN) se basó en su capacidad demostrada para tareas de visión por computadora. La inclusión de capas convolucionales con 128, 256 y 512 filtros busca capturar gradualmente características de baja a alta complejidad, permitiendo que la red aprenda representaciones más sofisticadas y específicas.\n",
        "\n",
        "##Función de Activación 'elu' y Dropout:\n",
        "La función de activación 'elu' se destacó por su capacidad para mitigar el problema de desvanecimiento de gradientes, especialmente en arquitecturas más profundas. Complementariamente, las capas de Dropout con tasas del 25% y 50% fueron introducidas estratégicamente para evitar el sobreajuste, al desactivar aleatoriamente ciertas neuronas durante el entrenamiento.\n",
        "\n",
        "##Capas Totalmente Conectadas y Número de Neuronas:\n",
        "La inclusión de una capa totalmente conectada con 1024 neuronas antes de la capa de salida busca proporcionar un espacio de representación más denso, permitiendo a la red aprender características complejas. La capa de salida final cuenta con 100 neuronas, reflejando la cantidad de clases en el conjunto de datos CIFAR-100.\n",
        "\n",
        "##Función de Pérdida y Optimizador:\n",
        "La elección de la función de pérdida 'Categorical Crossentropy' se justifica por ser apropiada para problemas de clasificación con múltiples clases. El optimizador Adam se adoptó con una tasa de aprendizaje de 0.0001 y decaimiento para facilitar un entrenamiento estable y rápido.\n",
        "\n",
        "##Aumento de Datos y Preprocesamiento:\n",
        "El aumento de datos a través de ImageDataGenerator fue implementado para mejorar la capacidad del modelo para generalizar a datos no vistos. Este enfoque busca aumentar la variabilidad del conjunto de entrenamiento y, por lo tanto, mejorar la robustez del modelo\n",
        "\n",
        "##División del Conjunto de Datos y Callbacks:\n",
        "El conjunto de datos se dividió en conjuntos de entrenamiento y validación mediante la función train_test_split. La inclusión de callbacks como EarlyStopping y ReduceLROnPlateau demuestra la atención a la eficiencia del entrenamiento. EarlyStopping evita el sobreajuste al detener el entrenamiento cuando la pérdida en el conjunto de validación deja de mejorar, mientras que ReduceLROnPlateau ajusta la tasa de aprendizaje para mejorar la convergencia."
      ]
    },
    {
      "cell_type": "markdown",
      "metadata": {
        "id": "4RAMfblaWPFl"
      },
      "source": [
        "#Construcción y Análisis de la Red Neuronal Convolucional (CNN)\n",
        "\n",
        "Iniciamos la construcción de la Red Neuronal Convolucional (CNN), fundamentando nuestra arquitectura en capas que constituyen la esencia de la red.\n",
        "\n",
        "Añadimos las capas principales:\n",
        "\n",
        "1. La primera capa es una **capa convolucional (Conv2D)** con 128 filtros de 3x3 y relleno 'same'. Aplicamos la función de activación **'elu'**. También se establece la configuración de entrada (input_shape) como (32, 32, 3), lo que indica que la red espera recibir imágenes de 32x32 píxeles con tres canales de color (rojo, verde y azul, o RGB).\n",
        "> El output shape y los parámetros de la primera capa (`Conv2D`) indican la estructura de salida de esta capa y la cantidad de parámetros entrenables asociados:\n",
        "\n",
        ">>- **(None, 32, 32, 128):**\n",
        "  - `None`: Este valor suele representar la dimensión de la cantidad de muestras en nuestros lote (batch).\n",
        "  - `32, 32, 128`: Esto indica que la salida de la capa es un tensor tridimensional con dimensiones 32x32 y 128 canales. Cada canal representa un \"filtro\" que la capa ha aplicado a la imagen de entrada.\n",
        "\n",
        ">>- **3584 parámetros entrenables:**\n",
        "  - Estos parámetros están asociados con los pesos de la capa. La cantidad de parámetros se calcula multiplicando el tamaño del kernel (en nuestro caso, (3,3)), el número de canales de entrada (3, correspondientes a los canales RGB), y el número de filtros (128) en la capa convolucional.\n",
        "\n",
        "\n",
        "\n",
        "2. Seguimos con otra capa convolucional (Conv2D) de 128 filtros y función de activación 'elu'.\n",
        "\n",
        "3. Introducimos una capa de **MaxPooling2D** con una ventana de 2x2 para reducir dimensiones y aplicamos **Dropout** para regularizar.\n",
        "\n",
        ">Analicemos la salida (`output shape`) y los parámetros de la primera capa `MaxPooling2D`:\n",
        "\n",
        ">>- **(None, 15, 15, 128):**\n",
        "  - `None`: Al igual que antes, representa la dimensión de la cantidad de muestras en tu lote (batch).\n",
        "  - `15, 15, 128`: La capa `MaxPooling2D` ha reducido las dimensiones espaciales de la salida de la capa anterior a la mitad (debido a `pool_size=(2,2)`), manteniendo los 128 canales sin cambios. Entonces, el tamaño de la salida es 15x15 con 128 canales.\n",
        "\n",
        ">>- **0 parámetros entrenables:**\n",
        "  - La capa `MaxPooling2D` no tiene parámetros entrenables. La operación de pooling simplemente selecciona el valor máximo de un conjunto de valores y no tiene pesos ajustables.\n",
        "\n",
        "\n",
        "4. Repetimos el patrón con dos capas convolucionales (256 filtros cada una), MaxPooling2D y Dropout.\n",
        "\n",
        "5. Seguimos con dos capas convolucionales más (512 filtros cada una), MaxPooling2D y Dropout para finalizar las capas convolucionales.\n",
        "\n",
        "6. Aplanamos los datos con **Flatten()** para preparar la entrada a las capas densas.\n",
        "\n",
        "7. Introducimos dos capas densas (Dense) con 1024 y 100 nodos respectivamente, utilizando la función de activación 'elu' en ambas y aplicando Dropout entre ellas.\n",
        "\n",
        ">Vamos a ver la salida (`output shape`) y los parámetros de la primera capa `Dense`:\n",
        "\n",
        ">>- **(None, 1024):**\n",
        "  - `None`: Nuevamente, representa la dimensión de la cantidad de muestras en tu lote (batch).\n",
        "  - `1024`: La capa `Dense` tiene 1024 neuronas en esta capa, lo que significa que cada muestra en el lote se asignará a un vector de 1024 dimensiones.\n",
        "\n",
        ">>- **2,098,176 parámetros entrenables:**\n",
        "  - Esta cifra indica la cantidad de parámetros que la red neuronal aprenderá durante el entrenamiento.\n",
        "  Se calcula:\n",
        "      - La capa `Dense` está completamente conectada, lo que significa que cada neurona en esta capa está conectada a cada neurona en la capa anterior.\n",
        "    - La entrada proviene de la capa anterior, que tiene la forma `(None, 15 * 15 * 128)` (el tamaño de la salida de la última capa de `MaxPooling2D`).\n",
        "    - Por lo tanto, el número de conexiones ponderadas (pesos) es `15 * 15 * 128 * 1024`.\n",
        "    - Además, hay un sesgo (bias) para cada neurona, dando lugar a otros `1024` parámetros.\n",
        "    - En total, `15 * 15 * 128 * 1024 + 1024 = 2,098,176` parámetros entrenables.\n",
        "\n",
        "8. La última capa densa, con 100 nodos, emplea la función de activación 'softmax' para las 100 clases de nuestro sistema.\n",
        "\n",
        "Esta arquitectura es resumida por el resumen del modelo, que muestra un total de 6,777,060 parámetros entrenables.\n",
        "\n",
        "A continuación, compilamos el modelo con la función de pérdida categorical_crossentropy, el optimizador **Adam** con una tasa de aprendizaje de 0.0001 y métricas de precisión.\n",
        "\n",
        "Durante el entrenamiento, aplicamos aumentación de datos mediante **ImageDataGenerator**, y también implementamos el uso de **EarlyStopping** para evitar el sobreajuste.\n",
        "\n",
        "Al final del entrenamiento, evaluamos el modelo en el conjunto de prueba, proporcionando una visión general de su rendimiento.\n",
        "\n",
        "### Resumen de la Arquitectura del Modelo:\n",
        "\n",
        "* Total de Parámetros: 6,777,060 (25.85 MB).\n",
        "* Parámetros Entrenables: 6,777,060 (25.85 MB).\n",
        "* Parámetros No Entrenables: 0 bytes.\n",
        "\n"
      ]
    },
    {
      "cell_type": "markdown",
      "metadata": {
        "id": "Y8fMDty9PtPz"
      },
      "source": [
        "**MODELO DE RED NEURONAL CONVOLUCIONAL**"
      ]
    },
    {
      "cell_type": "markdown",
      "source": [
        "En este apartado hemos creado nuestro modelo de red neuronal convolucional desarrollado previamente.\n",
        "\n",
        "En este caso, hemos realizado una subdivisión de los datos, para poder analizar el sobreentrenamiento del modelo, y elegir las epocas adecuadas.\n",
        "\n",
        "Lo que se ha hecho es dividir el datset de la siguiente forma: los datos de test o evaluación no se utilizaran en esta parte, y los datos de entrenamiento se dividirán por una parte en tr_images y tr_labels, una partición de los datos de entrenamiento, con los que se entrena este modelo. El resto de ellos seran los de validación, con los que evaluaremos el modelo y su sobreentrenamiento.\n",
        "\n",
        "Para plasmar mejor la idea de este importante concepto, se añade la siguiente imagen:\n",
        "\n",
        "![image.png](data:image/png;base64,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)"
      ],
      "metadata": {
        "id": "9X8Ylinnxj2t"
      }
    },
    {
      "cell_type": "code",
      "execution_count": null,
      "metadata": {
        "colab": {
          "base_uri": "https://localhost:8080/"
        },
        "id": "cfnIH9qGPrr6",
        "outputId": "02eb4aed-6552-439c-c617-9db712ddc29f"
      },
      "outputs": [
        {
          "output_type": "stream",
          "name": "stdout",
          "text": [
            "Model: \"sequential_2\"\n",
            "_________________________________________________________________\n",
            " Layer (type)                Output Shape              Param #   \n",
            "=================================================================\n",
            " conv2d_12 (Conv2D)          (None, 32, 32, 128)       3584      \n",
            "                                                                 \n",
            " activation_16 (Activation)  (None, 32, 32, 128)       0         \n",
            "                                                                 \n",
            " conv2d_13 (Conv2D)          (None, 30, 30, 128)       147584    \n",
            "                                                                 \n",
            " activation_17 (Activation)  (None, 30, 30, 128)       0         \n",
            "                                                                 \n",
            " max_pooling2d_6 (MaxPoolin  (None, 15, 15, 128)       0         \n",
            " g2D)                                                            \n",
            "                                                                 \n",
            " dropout_8 (Dropout)         (None, 15, 15, 128)       0         \n",
            "                                                                 \n",
            " conv2d_14 (Conv2D)          (None, 15, 15, 256)       295168    \n",
            "                                                                 \n",
            " activation_18 (Activation)  (None, 15, 15, 256)       0         \n",
            "                                                                 \n",
            " conv2d_15 (Conv2D)          (None, 13, 13, 256)       590080    \n",
            "                                                                 \n",
            " activation_19 (Activation)  (None, 13, 13, 256)       0         \n",
            "                                                                 \n",
            " max_pooling2d_7 (MaxPoolin  (None, 6, 6, 256)         0         \n",
            " g2D)                                                            \n",
            "                                                                 \n",
            " dropout_9 (Dropout)         (None, 6, 6, 256)         0         \n",
            "                                                                 \n",
            " conv2d_16 (Conv2D)          (None, 6, 6, 512)         1180160   \n",
            "                                                                 \n",
            " activation_20 (Activation)  (None, 6, 6, 512)         0         \n",
            "                                                                 \n",
            " conv2d_17 (Conv2D)          (None, 4, 4, 512)         2359808   \n",
            "                                                                 \n",
            " activation_21 (Activation)  (None, 4, 4, 512)         0         \n",
            "                                                                 \n",
            " max_pooling2d_8 (MaxPoolin  (None, 2, 2, 512)         0         \n",
            " g2D)                                                            \n",
            "                                                                 \n",
            " dropout_10 (Dropout)        (None, 2, 2, 512)         0         \n",
            "                                                                 \n",
            " flatten_2 (Flatten)         (None, 2048)              0         \n",
            "                                                                 \n",
            " dense_4 (Dense)             (None, 1024)              2098176   \n",
            "                                                                 \n",
            " activation_22 (Activation)  (None, 1024)              0         \n",
            "                                                                 \n",
            " dropout_11 (Dropout)        (None, 1024)              0         \n",
            "                                                                 \n",
            " dense_5 (Dense)             (None, 100)               102500    \n",
            "                                                                 \n",
            " activation_23 (Activation)  (None, 100)               0         \n",
            "                                                                 \n",
            "=================================================================\n",
            "Total params: 6777060 (25.85 MB)\n",
            "Trainable params: 6777060 (25.85 MB)\n",
            "Non-trainable params: 0 (0.00 Byte)\n",
            "_________________________________________________________________\n",
            "Epoch 1/80\n",
            "800/800 [==============================] - 42s 50ms/step - loss: 4.0870 - accuracy: 0.0776 - val_loss: 3.5322 - val_accuracy: 0.1739\n",
            "Epoch 2/80\n",
            "800/800 [==============================] - 36s 45ms/step - loss: 3.5626 - accuracy: 0.1620 - val_loss: 3.1815 - val_accuracy: 0.2402\n",
            "Epoch 3/80\n",
            "800/800 [==============================] - 37s 46ms/step - loss: 3.2615 - accuracy: 0.2156 - val_loss: 2.8968 - val_accuracy: 0.2952\n",
            "Epoch 4/80\n",
            "800/800 [==============================] - 37s 46ms/step - loss: 3.0772 - accuracy: 0.2513 - val_loss: 2.6722 - val_accuracy: 0.3440\n",
            "Epoch 5/80\n",
            "800/800 [==============================] - 37s 46ms/step - loss: 2.9420 - accuracy: 0.2773 - val_loss: 2.5589 - val_accuracy: 0.3699\n",
            "Epoch 6/80\n",
            "800/800 [==============================] - 36s 45ms/step - loss: 2.8335 - accuracy: 0.2990 - val_loss: 2.4755 - val_accuracy: 0.3794\n",
            "Epoch 7/80\n",
            "800/800 [==============================] - 38s 47ms/step - loss: 2.7479 - accuracy: 0.3153 - val_loss: 2.4331 - val_accuracy: 0.3858\n",
            "Epoch 8/80\n",
            "800/800 [==============================] - 37s 46ms/step - loss: 2.6716 - accuracy: 0.3282 - val_loss: 2.3475 - val_accuracy: 0.4122\n",
            "Epoch 9/80\n",
            "800/800 [==============================] - 37s 47ms/step - loss: 2.6074 - accuracy: 0.3435 - val_loss: 2.2397 - val_accuracy: 0.4329\n",
            "Epoch 10/80\n",
            "800/800 [==============================] - 36s 45ms/step - loss: 2.5488 - accuracy: 0.3546 - val_loss: 2.2097 - val_accuracy: 0.4322\n",
            "Epoch 11/80\n",
            "800/800 [==============================] - 36s 45ms/step - loss: 2.5026 - accuracy: 0.3659 - val_loss: 2.2194 - val_accuracy: 0.4309\n",
            "Epoch 12/80\n",
            "800/800 [==============================] - 37s 47ms/step - loss: 2.4634 - accuracy: 0.3702 - val_loss: 2.1963 - val_accuracy: 0.4366\n",
            "Epoch 13/80\n",
            "800/800 [==============================] - 38s 47ms/step - loss: 2.4177 - accuracy: 0.3863 - val_loss: 2.1819 - val_accuracy: 0.4381\n",
            "Epoch 14/80\n",
            "800/800 [==============================] - 37s 46ms/step - loss: 2.3692 - accuracy: 0.3961 - val_loss: 2.0929 - val_accuracy: 0.4589\n",
            "Epoch 15/80\n",
            "800/800 [==============================] - 36s 45ms/step - loss: 2.3266 - accuracy: 0.4054 - val_loss: 2.0431 - val_accuracy: 0.4693\n",
            "Epoch 16/80\n",
            "800/800 [==============================] - 38s 47ms/step - loss: 2.3142 - accuracy: 0.4053 - val_loss: 2.0371 - val_accuracy: 0.4708\n",
            "Epoch 17/80\n",
            "800/800 [==============================] - 37s 46ms/step - loss: 2.2832 - accuracy: 0.4099 - val_loss: 1.9392 - val_accuracy: 0.4916\n",
            "Epoch 18/80\n",
            "800/800 [==============================] - 36s 45ms/step - loss: 2.2476 - accuracy: 0.4197 - val_loss: 1.9854 - val_accuracy: 0.4790\n",
            "Epoch 19/80\n",
            "800/800 [==============================] - 37s 46ms/step - loss: 2.2067 - accuracy: 0.4253 - val_loss: 1.9782 - val_accuracy: 0.4878\n",
            "Epoch 20/80\n",
            "800/800 [==============================] - 36s 45ms/step - loss: 2.1911 - accuracy: 0.4305 - val_loss: 1.9186 - val_accuracy: 0.4995\n",
            "Epoch 21/80\n",
            "800/800 [==============================] - 36s 45ms/step - loss: 2.1643 - accuracy: 0.4357 - val_loss: 1.8763 - val_accuracy: 0.5094\n",
            "Epoch 22/80\n",
            "800/800 [==============================] - 37s 46ms/step - loss: 2.1394 - accuracy: 0.4427 - val_loss: 1.8387 - val_accuracy: 0.5160\n",
            "Epoch 23/80\n",
            "800/800 [==============================] - 37s 47ms/step - loss: 2.1160 - accuracy: 0.4459 - val_loss: 1.8459 - val_accuracy: 0.5213\n",
            "Epoch 24/80\n",
            "800/800 [==============================] - 37s 46ms/step - loss: 2.0879 - accuracy: 0.4503 - val_loss: 1.8238 - val_accuracy: 0.5213\n",
            "Epoch 25/80\n",
            "800/800 [==============================] - 36s 45ms/step - loss: 2.0634 - accuracy: 0.4569 - val_loss: 1.8202 - val_accuracy: 0.5194\n",
            "Epoch 26/80\n",
            "800/800 [==============================] - 48s 59ms/step - loss: 2.0502 - accuracy: 0.4599 - val_loss: 1.7729 - val_accuracy: 0.5297\n",
            "Epoch 27/80\n",
            "800/800 [==============================] - 36s 45ms/step - loss: 2.0384 - accuracy: 0.4631 - val_loss: 1.7494 - val_accuracy: 0.5373\n",
            "Epoch 28/80\n",
            "800/800 [==============================] - 41s 51ms/step - loss: 2.0121 - accuracy: 0.4649 - val_loss: 1.7549 - val_accuracy: 0.5318\n",
            "Epoch 29/80\n",
            "800/800 [==============================] - 39s 49ms/step - loss: 1.9834 - accuracy: 0.4747 - val_loss: 1.7373 - val_accuracy: 0.5336\n",
            "Epoch 30/80\n",
            "800/800 [==============================] - 70s 87ms/step - loss: 1.9669 - accuracy: 0.4773 - val_loss: 1.7349 - val_accuracy: 0.5384\n",
            "Epoch 31/80\n",
            "800/800 [==============================] - 60s 75ms/step - loss: 1.9584 - accuracy: 0.4805 - val_loss: 1.6942 - val_accuracy: 0.5434\n",
            "Epoch 32/80\n",
            "800/800 [==============================] - 39s 49ms/step - loss: 1.9309 - accuracy: 0.4854 - val_loss: 1.6988 - val_accuracy: 0.5484\n",
            "Epoch 33/80\n",
            "800/800 [==============================] - 38s 48ms/step - loss: 1.9189 - accuracy: 0.4871 - val_loss: 1.6988 - val_accuracy: 0.5463\n",
            "Epoch 34/80\n",
            "800/800 [==============================] - 37s 47ms/step - loss: 1.8872 - accuracy: 0.4937 - val_loss: 1.6849 - val_accuracy: 0.5507\n",
            "Epoch 35/80\n",
            "800/800 [==============================] - 39s 49ms/step - loss: 1.8760 - accuracy: 0.4992 - val_loss: 1.6630 - val_accuracy: 0.5547\n",
            "Epoch 36/80\n",
            "800/800 [==============================] - 40s 50ms/step - loss: 1.8657 - accuracy: 0.4990 - val_loss: 1.6556 - val_accuracy: 0.5551\n",
            "Epoch 37/80\n",
            "800/800 [==============================] - 38s 48ms/step - loss: 1.8415 - accuracy: 0.5048 - val_loss: 1.6578 - val_accuracy: 0.5514\n",
            "Epoch 38/80\n",
            "800/800 [==============================] - 37s 46ms/step - loss: 1.8276 - accuracy: 0.5077 - val_loss: 1.6253 - val_accuracy: 0.5626\n",
            "Epoch 39/80\n",
            "800/800 [==============================] - 37s 46ms/step - loss: 1.8164 - accuracy: 0.5110 - val_loss: 1.5985 - val_accuracy: 0.5694\n",
            "Epoch 40/80\n",
            "800/800 [==============================] - 39s 48ms/step - loss: 1.8059 - accuracy: 0.5153 - val_loss: 1.5866 - val_accuracy: 0.5719\n",
            "Epoch 41/80\n",
            "800/800 [==============================] - 38s 47ms/step - loss: 1.8020 - accuracy: 0.5156 - val_loss: 1.5883 - val_accuracy: 0.5708\n",
            "Epoch 42/80\n",
            "800/800 [==============================] - 38s 47ms/step - loss: 1.7569 - accuracy: 0.5233 - val_loss: 1.5744 - val_accuracy: 0.5701\n",
            "Epoch 43/80\n",
            "800/800 [==============================] - 39s 49ms/step - loss: 1.7551 - accuracy: 0.5226 - val_loss: 1.6020 - val_accuracy: 0.5680\n",
            "Epoch 44/80\n",
            "800/800 [==============================] - 40s 50ms/step - loss: 1.7360 - accuracy: 0.5303 - val_loss: 1.5844 - val_accuracy: 0.5702\n",
            "Epoch 45/80\n",
            "800/800 [==============================] - 39s 48ms/step - loss: 1.7238 - accuracy: 0.5291 - val_loss: 1.5913 - val_accuracy: 0.5701\n",
            "Epoch 46/80\n",
            "800/800 [==============================] - ETA: 0s - loss: 1.7044 - accuracy: 0.5314"
          ]
        }
      ],
      "source": [
        "import tensorflow as tf\n",
        "from keras.preprocessing.image import ImageDataGenerator\n",
        "import matplotlib.pyplot as plt\n",
        "import numpy as np\n",
        "import tensorflow as tf\n",
        "from tensorflow import keras\n",
        "from keras import layers\n",
        "from sklearn.model_selection import train_test_split\n",
        "from tensorflow.keras.losses import categorical_crossentropy\n",
        "import numpy as np\n",
        "import matplotlib.pyplot as plt\n",
        "from tensorflow.keras.optimizers import Adam\n",
        "from keras.callbacks import EarlyStopping\n",
        "from keras.layers import Activation\n",
        "\n",
        "tr_images, val_images, tr_labels, val_labels = train_test_split(train_images, train_labels, test_size=0.2, random_state=42)\n",
        "\n",
        "# Ajustar el número de neuronas en la capa de salida según el número de clases\n",
        "num_classes = 100  # Ajusta esto al número real de clases en los datos\n",
        "model = Sequential()\n",
        "model.add(Conv2D(128, (3, 3), padding='same',input_shape=tr_images.shape[1:]))\n",
        "model.add(Activation('elu'))\n",
        "\n",
        "model.add(Conv2D(128, (3, 3)))\n",
        "model.add(Activation('elu'))\n",
        "model.add(MaxPooling2D(pool_size=(2, 2)))\n",
        "model.add(Dropout(0.1))\n",
        "\n",
        "model.add(Conv2D(256, (3, 3), padding='same'))\n",
        "model.add(Activation('elu'))\n",
        "\n",
        "model.add(Conv2D(256, (3, 3)))\n",
        "model.add(Activation('elu'))\n",
        "\n",
        "model.add(MaxPooling2D(pool_size=(2, 2)))\n",
        "model.add(Dropout(0.25))\n",
        "\n",
        "model.add(Conv2D(512, (3, 3), padding='same'))\n",
        "model.add(Activation('elu'))\n",
        "\n",
        "model.add(Conv2D(512, (3, 3)))\n",
        "model.add(Activation('elu'))\n",
        "\n",
        "model.add(MaxPooling2D(pool_size=(2, 2)))\n",
        "model.add(Dropout(0.5))\n",
        "model.add(Flatten())\n",
        "model.add(Dense(1024))\n",
        "model.add(Activation('elu'))\n",
        "\n",
        "model.add(Dropout(0.5))\n",
        "model.add(Dense(100))\n",
        "model.add(Activation('softmax'))\n",
        "\n",
        "model.summary()\n",
        "\n",
        "model.compile(\n",
        "    loss=categorical_crossentropy,\n",
        "    optimizer=Adam(learning_rate=0.0001),\n",
        "    metrics=['accuracy']\n",
        ")\n",
        "\n",
        "\n",
        "# Data augmentation\n",
        "datagen = ImageDataGenerator(\n",
        "    featurewise_center=False,\n",
        "    samplewise_center=False,\n",
        "    featurewise_std_normalization=False,\n",
        "    samplewise_std_normalization=False,\n",
        "    zca_whitening=False,\n",
        "    rotation_range=0,\n",
        "    width_shift_range=0.1,\n",
        "    height_shift_range=0.1,\n",
        "    horizontal_flip=True,\n",
        "    vertical_flip=False\n",
        ")\n",
        "\n",
        "datagen.fit(train_images)\n",
        "\n",
        "# Aplicar aumento de datos durante el entrenamiento\n",
        "early_stopping = EarlyStopping(monitor='val_loss', mode='min', verbose=1, patience=8, restore_best_weights=True)\n",
        "\n",
        "history = model.fit(\n",
        "    datagen.flow(tr_images, tr_labels, batch_size=50),\n",
        "    steps_per_epoch=len(tr_images) // 50,\n",
        "    epochs=80,\n",
        "    validation_data=(val_images, val_labels),\n",
        "    callbacks=[early_stopping]\n",
        ")\n",
        "\n",
        "\n",
        "# Generate generalization metrics\n",
        "test_loss, test_acc = model.evaluate(val_images, val_labels)\n",
        "print(\"Test accuracy: \", test_acc)"
      ]
    },
    {
      "cell_type": "markdown",
      "metadata": {
        "id": "w6J_Zto2tQNb"
      },
      "source": [
        "### GRÁFICAS DE SOBRENTRENAMIENTO"
      ]
    },
    {
      "cell_type": "markdown",
      "source": [
        "Se grafican ahora los resultados obtenidos, tanto de perdida como de precisión, para el número de épocas elegido, y se observa el sobreentrenamiento generado, para así poder tomar una decisión de cara al modelo final."
      ],
      "metadata": {
        "id": "620dme2dztXO"
      }
    },
    {
      "cell_type": "code",
      "execution_count": null,
      "metadata": {
        "id": "n0zTrF03tOWB"
      },
      "outputs": [],
      "source": [
        "# Graficar las curvas de pérdida y precisión durante el entrenamiento y la validación\n",
        "plt.figure(figsize=(12, 4))\n",
        "\n",
        "# Pérdida\n",
        "plt.subplot(1, 2, 1)\n",
        "plt.plot(history.history['loss'], label='Training Loss')\n",
        "plt.plot(history.history['val_loss'], label='Validation Loss')\n",
        "plt.title('Training and Validation Loss')\n",
        "plt.xlabel('Epoch')\n",
        "plt.ylabel('Loss')\n",
        "plt.legend()\n",
        "\n",
        "# Precisión\n",
        "plt.subplot(1, 2, 2)\n",
        "plt.plot(history.history['accuracy'], label='Training Accuracy')\n",
        "plt.plot(history.history['val_accuracy'], label='Validation Accuracy')\n",
        "plt.title('Training and Validation Accuracy')\n",
        "plt.xlabel('Epoch')\n",
        "plt.ylabel('Accuracy')\n",
        "plt.legend()\n",
        "\n",
        "plt.tight_layout()\n",
        "plt.show()"
      ]
    },
    {
      "cell_type": "markdown",
      "metadata": {
        "id": "y8icmTkMY2Bs"
      },
      "source": [
        "##Elección de las épocas\n",
        "\n",
        "\n",
        "La elección de la época 80 como punto crítico para observar sobreentrenamiento se basa en una evaluación visual de las curvas de pérdida y precisión durante el entrenamiento y la validación. A partir de la época 80, se percibe claramente un aumento en la pérdida de validación, mientras que la pérdida de entrenamiento sigue disminuyendo, indicando una brecha creciente entre la capacidad del modelo para generalizar y memorizar el conjunto de entrenamiento. Este punto de inflexión sugiere que el modelo comienza a sobreentrenarse, destacando la importancia de detener el entrenamiento en esta etapa para evitar un deterioro en la capacidad de generalización. Además, la elección de la época 80 se respalda en consideraciones prácticas, como el equilibrio entre rendimiento y costo computacional, optimizando la identificación temprana del sobreentrenamiento sin incurrir en un tiempo excesivo de entrenamiento."
      ]
    },
    {
      "cell_type": "code",
      "execution_count": null,
      "metadata": {
        "id": "HXTuPCTR2Qws"
      },
      "outputs": [],
      "source": [
        "\n",
        "\n",
        "\n",
        "# Ajustar el número de neuronas en la capa de salida según el número de clases\n",
        "num_classes = 100  # Ajusta esto al número real de clases en tus datos\n",
        "model = Sequential()\n",
        "model.add(Conv2D(128, (3, 3), padding='same',input_shape=train_images.shape[1:]))\n",
        "model.add(Activation('elu'))\n",
        "\n",
        "model.add(Conv2D(128, (3, 3)))\n",
        "model.add(Activation('elu'))\n",
        "model.add(MaxPooling2D(pool_size=(2, 2)))\n",
        "model.add(Dropout(0.1))\n",
        "\n",
        "model.add(Conv2D(256, (3, 3), padding='same'))\n",
        "model.add(Activation('elu'))\n",
        "\n",
        "model.add(Conv2D(256, (3, 3)))\n",
        "model.add(Activation('elu'))\n",
        "\n",
        "model.add(MaxPooling2D(pool_size=(2, 2)))\n",
        "model.add(Dropout(0.25))\n",
        "\n",
        "model.add(Conv2D(512, (3, 3), padding='same'))\n",
        "model.add(Activation('elu'))\n",
        "\n",
        "model.add(Conv2D(512, (3, 3)))\n",
        "model.add(Activation('elu'))\n",
        "\n",
        "model.add(MaxPooling2D(pool_size=(2, 2)))\n",
        "model.add(Dropout(0.5))\n",
        "model.add(Flatten())\n",
        "model.add(Dense(1024))\n",
        "model.add(Activation('elu'))\n",
        "\n",
        "model.add(Dropout(0.5))\n",
        "model.add(Dense(100))\n",
        "model.add(Activation('softmax'))\n",
        "\n",
        "model.summary()\n",
        "\n",
        "model.compile(\n",
        "    loss=categorical_crossentropy,\n",
        "    optimizer=Adam(learning_rate=0.0001),\n",
        "    metrics=['accuracy']\n",
        ")\n",
        "\n",
        "\n",
        "# Data augmentation\n",
        "datagen = ImageDataGenerator(\n",
        "    featurewise_center=False,\n",
        "    samplewise_center=False,\n",
        "    featurewise_std_normalization=False,\n",
        "    samplewise_std_normalization=False,\n",
        "    zca_whitening=False,\n",
        "    rotation_range=0,\n",
        "    width_shift_range=0.1,\n",
        "    height_shift_range=0.1,\n",
        "    horizontal_flip=True,\n",
        "    vertical_flip=False\n",
        ")\n",
        "\n",
        "datagen.fit(tr_images)\n",
        "\n",
        "\n",
        "history = model.fit(\n",
        "    datagen.flow(train_images, train_labels, batch_size=50),\n",
        "    steps_per_epoch=len(train_images) // 50,\n",
        "    epochs=80,\n",
        ")\n",
        "\n",
        "\n",
        "# Generate generalization metrics\n",
        "test_loss, test_acc = model.evaluate(test_images, test_labels)\n",
        "print(\"Test accuracy: \", test_acc)"
      ]
    },
    {
      "cell_type": "markdown",
      "metadata": {
        "id": "iwT3PAAMtdNu"
      },
      "source": [
        "\n",
        "   Al observar los gráficos, se pueden identificar los siguientes escenarios relacionados con el sobreentrenamiento:\n",
        "\n",
        "###Pérdida de entrenamiento y pérdida de validación:\n",
        "Si la pérdida de entrenamiento disminuye continuamente mientras que la pérdida de validación comienza a aumentar, es una señal de posible sobreentrenamiento. Esto indica que el modelo está memorizando el conjunto de entrenamiento en lugar de aprender patrones generales.\n",
        "###Precisión de entrenamiento y precisión de validación:\n",
        "Si la precisión de entrenamiento sigue mejorando mientras que la precisión de validación se estanca o disminuye, es otra indicación de sobreentrenamiento. La precisión de entrenamiento puede alcanzar niveles cercanos al 100%, pero si el modelo no generaliza bien a nuevos datos, este comportamiento no es deseado.\n",
        "###Diferencia entre pérdida y precisión de entrenamiento y validación:\n",
        "Una brecha significativa entre las métricas de entrenamiento y validación puede sugerir sobreentrenamiento. Un modelo ideal debería generalizar bien a datos no vistos, lo que se reflejaría en métricas de validación comparables a las de entrenamiento.\n"
      ]
    },
    {
      "cell_type": "code",
      "execution_count": null,
      "metadata": {
        "id": "AE0C49cGfDXL"
      },
      "outputs": [],
      "source": [
        "# Translate categorial to array for drawing confusion matrix\n",
        "from sklearn.metrics import confusion_matrix\n",
        "from numpy import argmax\n",
        "prediction = []\n",
        "true_labels = []\n",
        "\n",
        "pred = model.predict(test_images)\n",
        "print(test_labels.shape[0])\n",
        "for i in range(test_labels.shape[0]):\n",
        "  prediction.append(argmax(pred[i]))\n",
        "  true_labels.append(argmax(test_labels[i]))\n",
        "\n",
        "cm = confusion_matrix(prediction, true_labels)\n",
        "\n",
        "\n",
        "# Plot the confusion matrix\n",
        "import matplotlib.pyplot as plt\n",
        "print(cm)\n",
        "fig = plt.figure(figsize=(24,24))\n",
        "ax = fig.add_subplot(211)\n",
        "cax = ax.matshow(cm)\n",
        "plt.title('Confusion matrix of the classifier')\n",
        "fig.colorbar(cax)\n",
        "ax.set_xticklabels([''] + clases)\n",
        "ax.set_yticklabels([''] + clases)\n",
        "plt.xlabel('Predicted')\n",
        "plt.ylabel('True')\n",
        "plt.show()\n",
        "\n",
        "# Calculating f1 score\n",
        "from sklearn.metrics import f1_score\n",
        "print(f\"f1 score: {f1_score(true_labels, prediction, average='weighted')}\")\n",
        "\n",
        "\n",
        "from sklearn.metrics import classification_report\n",
        "print(classification_report(true_labels, prediction, target_names=clases, digits=5))\n",
        "\n"
      ]
    },
    {
      "cell_type": "markdown",
      "metadata": {
        "id": "fua-1cZTq1mH"
      },
      "source": [
        "##ANALISIS MATRIZ DE CONFUSIÓN\n",
        "El análisis de los resultados revela que el modelo presenta una precisión global del 0.62 en el conjunto de prueba, indicando una capacidad de clasificación considerable. Se observan áreas de fortaleza en la diagonal principal de la matriz de confusión, señalando una buena capacidad de clasificación en algunas clases específicas. Sin embargo, desafíos notables surgen en la distinción entre ciertas clases, como \"aquarium\" y \"fish\", o \"hamster\" y \"mouse\", sugiriendo similitudes visuales entre ellas. La matriz de confusión proporciona una representación visual de estos patrones, y el análisis detallado del informe de clasificación ofrece métricas específicas por clase, destacando áreas específicas de mejora. El puntaje F1 ponderado, que combina precisión y exhaustividad, ofrece un equilibrio general del rendimiento del modelo. En general, se identifican oportunidades para optimizar el modelo mediante ajustes en la arquitectura, la implementación de estrategias de aumento de datos y otras técnicas específicas para abordar las áreas identificadas de mejora. Este enfoque permitirá mejorar la capacidad de generalización del modelo y abordar las confusiones específicas entre clases."
      ]
    },
    {
      "cell_type": "markdown",
      "metadata": {
        "id": "jer3dV5q07Fc"
      },
      "source": [
        "**PREDICCIONES**\n",
        "\n",
        "A continuación, mostramos y analizamos las predicciones que hace nuestro modelo para 10 de las imágenes de test o evaluación:\n"
      ]
    },
    {
      "cell_type": "code",
      "execution_count": null,
      "metadata": {
        "id": "wBfHtGii1MQT"
      },
      "outputs": [],
      "source": [
        "# predictions = model.predict(test_images)\n",
        "# random_indices = np.random.choice(100, size=10, replace=False)\n",
        "\n",
        "# print('\\n' + '-'*60 + '\\n')\n",
        "# for i in (random_indices):\n",
        "#   print (f\"--> Imagen {i+1}\")\n",
        "#   print('Resultado de la predicción:',clases[np.argmax(predictions[i])])\n",
        "#   print('Etiqueta real:',clases[np.argmax(test_labels[i])])\n",
        "#   digit = test_images[i]\n",
        "#   plt.figure(figsize=(2, 2))\n",
        "#   plt.imshow(digit, cmap=plt.cm.binary)\n",
        "#   plt.axis('off')\n",
        "#   plt.show()\n",
        "#   print('\\n''\\n')\n",
        "\n",
        "\n",
        "\n",
        "#def encontrar_vector(palabra):\n",
        "    #for clave, valor in diccionario_animales.items():\n",
        "        #if palabra in valor:\n",
        "            #return clave\n",
        "#def plot_image(i, predictions_array, true_label, img):\n",
        "  #predictions_array, true_label, img = predictions_array, true_label[i], img[i]\n",
        "  #plt.grid(False)\n",
        "  #plt.xticks([])\n",
        " # plt.yticks([])\n",
        "\n",
        "  #plt.imshow(img, cmap=plt.cm.binary)\n",
        "\n",
        "  #predicted_label = np.argmax(predictions_array)\n",
        "  #if predicted_label.all() == true_label.all():\n",
        "    #color = 'blue'\n",
        "  #else:\n",
        "    #color = 'red'\n",
        "\n",
        "  #plt.xlabel(\"{} {:2.0f}% ({})\".format(predicted_label,\n",
        "                                #100*np.max(predictions_array),\n",
        "                                #true_label),\n",
        "                                #color=color)\n",
        "\n",
        "#def plot_value_array(i, predictions_array, true_label):\n",
        "  #predictions_array, true_label = predictions_array, true_label[i]\n",
        "  #plt.grid(False)\n",
        "  #plt.xticks(range(10))\n",
        "  #plt.yticks([])\n",
        "  #thisplot = plt.bar(range(10), predictions_array, color=\"#00FF00\")\n",
        "  #plt.ylim([0, 1])\n",
        "  #predicted_label = np.argmax(predictions_array)\n",
        "\n",
        "  #print(true_label)\n",
        " # thisplot[predicted_label].set_color('red')\n",
        "  #thisplot[true_label].set_color('black')\n",
        "\n",
        "\n",
        "#predictions = model.predict(test_images)\n",
        "#random_indices = np.random.choice(100, size=10, replace=False)\n",
        "#suma1 = 0\n",
        "#suma2 = 0\n",
        "\n",
        "\n",
        "#print('\\n' + '-'*60 + '\\n')\n",
        "#for i in (random_indices):\n",
        "\n",
        "  #print (f\"--> Imagen {i}\")\n",
        "  #plt.figure(figsize=(6,3))\n",
        "  #plt.subplot(1,2,1)\n",
        "  #plot_image(i, predictions[i], test_labels, test_images)\n",
        "  #plt.subplot(1,2,2)\n",
        "  #plot_value_array(i, predictions[i],  test_labels)\n",
        "  #plt.show()\n",
        "  #plt.clf()\n",
        "  #print('PREDICCIONES DE SUPERCLASES')\n",
        "  #print('Super clase predicha:',encontrar_vector(clases[np.argmax(predictions[i])]))\n",
        "  #print('Super clase real:',encontrar_vector(clases[np.argmax(test_labels[i])]))\n",
        "  #print('\\n''\\n')\n",
        "  #print('\\n''\\n')\n",
        "\n",
        "  # Numero de aciertos en clases\n",
        "  #if encontrar_vector(clases[np.argmax(predictions[i])]) == encontrar_vector(clases[np.argmax(test_labels[i])]):\n",
        "   # suma1 = suma1 + 1\n",
        "\n",
        "  #if clases[np.argmax(predictions[i])] == clases[np.argmax(test_labels[i])]:\n",
        "    #suma2 = suma2 + 1\n",
        "\n",
        "#print(suma1)\n",
        "#print(suma2)\n",
        "\n",
        "\n"
      ]
    },
    {
      "cell_type": "markdown",
      "metadata": {
        "id": "4Q-u0EXOgmwy"
      },
      "source": [
        "**ANÁLISIS DE PREDICCIONES**\n",
        "\n",
        "Hemos comprobamos las predicciones de nuestro modelo para 10 imágenes aleatorias, así como los porcentajes que representan la probabilidad de que pertencezca a las 10 clases más altas(más probables).\n",
        "\n",
        "Además de esto, mostramos también las predicciones y etiquetas de las subclases. Así hemos podido comprobar que en muchos casos, pese a no predecir bien la clase, la subclase si que es la misma que la de etiqueta real.\n",
        "\n",
        "Lo vemos mejor en esta gráfica:"
      ]
    },
    {
      "cell_type": "code",
      "execution_count": null,
      "metadata": {
        "id": "6DPUVOOvglxo"
      },
      "outputs": [],
      "source": [
        "etiquetas = ['Aciertos', 'Errores']\n",
        "valores = [suma1, 10-suma1]\n",
        "\n",
        "plt.bar(etiquetas, valores, color=['green', 'blue'])\n",
        "plt.xlabel('Sumas')\n",
        "plt.ylabel('Número de Aciertos')\n",
        "plt.title('Comparación de Aciertos SUPERCLASES')\n",
        "plt.ylim(0, 10)  # Establecer límite superior en el eje y\n",
        "plt.show()\n",
        "\n",
        "etiquetas = ['Aciertos', 'Errores']\n",
        "valores = [suma2, 10-suma2]\n",
        "plt.bar(etiquetas, valores, color=['green', 'blue'])\n",
        "plt.xlabel('Sumas')\n",
        "plt.ylabel('Número de Aciertos')\n",
        "plt.title('Comparación de Aciertos CLASES')\n",
        "plt.ylim(0, 10)  # Establecer límite superior en el eje y\n",
        "plt.show()"
      ]
    },
    {
      "cell_type": "markdown",
      "metadata": {
        "id": "9STDZhaoLn7s"
      },
      "source": [
        "##COMPARACIÓN DE MODELOS\n",
        "\n",
        "**MODELO INCIAL**\n",
        "\n",
        "A continuación, se inserta el modelo base con el que comenzamos a trabajar, con una precisión relativamente baja, y a partir del cual pudimos ir dando pasos, y añadiendo mejoras, hasta llegar al modelo final presentado en esta entrega."
      ]
    },
    {
      "cell_type": "code",
      "execution_count": null,
      "metadata": {
        "id": "kcOmriNjLLL2"
      },
      "outputs": [],
      "source": [
        "model = Sequential()\n",
        "model.add(Conv2D(input_shape=(32, 32, 3), kernel_size=(2, 2), padding='same', strides=(2, 2), filters=32))\n",
        "model.add(MaxPooling2D(pool_size=(2, 2), strides=(1, 1), padding='same'))\n",
        "model.add(Conv2D(kernel_size=(2, 2), padding='same', strides=(2, 2), filters=64))\n",
        "model.add(MaxPooling2D(pool_size=(2, 2), strides=(1, 1), padding='same'))\n",
        "\n",
        "model.add(Conv2D(128, (3, 3), activation='relu', input_shape=(32, 32, 3)))\n",
        "model.add(MaxPooling2D((3, 3)))\n",
        "\n",
        "model.add(Flatten())\n",
        "model.add(Dense(100, activation='softmax'))\n",
        "\n",
        "model.summary()\n",
        "\n",
        "model.compile(loss='categorical_crossentropy',\n",
        "              optimizer='adam',\n",
        "              metrics=['accuracy'])\n",
        "\n",
        "model.fit(train_images, train_labels, epochs=23, batch_size=128)\n",
        "\n",
        "\n",
        "test_loss, test_acc = model.evaluate(test_images, test_labels)\n",
        "print(\"Test accuracy: \", test_acc)"
      ]
    },
    {
      "cell_type": "markdown",
      "metadata": {
        "id": "7XLIP8PljOUo"
      },
      "source": [
        "**Arquitecturas de los dos modelos (base y final):**\n",
        "\n",
        "*Modelo Base:*\n",
        "\n",
        "Utiliza una arquitectura de red sencilla con dos capas convolucionales y una capa completamente conectada al final.\n",
        "\n",
        "   ```python\n",
        "   model = Sequential()\n",
        "   model.add(Conv2D(32, (5, 5), activation='relu', input_shape=(28, 28, 1)))\n",
        "   model.add(MaxPooling2D((2, 2)))\n",
        "   model.summary()\n",
        "   model.add(Conv2D(64, (5, 5), activation='relu'))\n",
        "   model.add(MaxPooling2D((2, 2)))\n",
        "   model.summary()\n",
        "\n",
        "   model.add(Flatten())\n",
        "   model.add(Dense(10, activation='softmax'))\n",
        "   model.summary()\n",
        "   ```\n",
        "\n",
        "*Modelo Final:*\n",
        "\n",
        "Utiliza una arquitectura más profunda con capas de activación 'elu' para una mejor convergencia.\n",
        "Aplica capas de Dropout para la regularización y prevención del sobreajuste.\n",
        "Aumenta el número de filtros en las capas convolucionales para aprender características más complejas.\n",
        "\n",
        "   ```python\n",
        "   num_classes = 100  # Ajusta esto al número real de clases en tus datos\n",
        "   model = Sequential()\n",
        "   model.add(Conv2D(128, (3, 3), padding='same', input_shape=train_images.shape[1:]))\n",
        "   model.add(Activation('elu'))\n",
        "   model.add(Conv2D(128, (3, 3)))\n",
        "   model.add(Activation('elu'))\n",
        "   model.add(MaxPooling2D(pool_size=(2, 2)))\n",
        "   model.add(Dropout(0.1))\n",
        "   model.add(Conv2D(256, (3, 3), padding='same'))\n",
        "   model.add(Activation('elu'))\n",
        "   model.add(Conv2D(256, (3, 3)))\n",
        "   model.add(Activation('elu'))\n",
        "   model.add(MaxPooling2D(pool_size=(2, 2)))\n",
        "   model.add(Dropout(0.25))\n",
        "\n",
        "   model.add(Conv2D(512, (3, 3), padding='same'))\n",
        "   model.add(Activation('elu'))\n",
        "   model.add(Conv2D(512, (3, 3)))\n",
        "   model.add(Activation('elu'))\n",
        "   model.add(MaxPooling2D(pool_size=(2, 2)))\n",
        "   model.add(Dropout(0.5))\n",
        "   model.add(Flatten())\n",
        "   model.add(Dense(1024))\n",
        "   model.add(Activation('elu'))\n",
        "   model.add(Dropout(0.5))\n",
        "   model.add(Dense(100))\n",
        "   model.add(Activation('softmax'))\n",
        "\n",
        "   model.summary()\n",
        "   ```\n",
        "\n",
        "   - En el código final, hemos mejorado la arquitectura de la red agregando capas de activación 'elu', capas de Dropout para regularización, y utilizando un mayor número de filtros en las capas convolucionales.\n",
        "\n",
        "**Compilación y Entrenamiento:**\n",
        "\n",
        "*Modelo Inicial:*\n",
        "\n",
        "Utiliza el optimizador SGD (Gradiente Descendente Estocástico) con una tasa de aprendizaje predeterminada.\n",
        "   ```python\n",
        "   model.compile(loss='categorical_crossentropy',\n",
        "                 optimizer='sgd',\n",
        "                 metrics=['accuracy'])\n",
        "\n",
        "   model.fit(train_images, train_labels,\n",
        "             batch_size=100,\n",
        "             epochs=5,\n",
        "             verbose=1)\n",
        "   \n",
        "   test_loss, test_acc = model.evaluate(test_images, test_labels)\n",
        "   print('Test accuracy:', test_acc)\n",
        "   ```\n",
        "\n",
        "*Modelo Final:*\n",
        "\n",
        "   Utiliza el optimizador Adam con una tasa de aprendizaje adaptativa más baja y un término de decaimiento (decay).\n",
        "Aplica EarlyStopping para detener el entrenamiento si no hay mejoras en la validación.\n",
        "\n",
        "   ```python\n",
        "   model.compile(loss=categorical_crossentropy,\n",
        "                 optimizer=tf.keras.optimizers.legacy.Adam(learning_rate=0.0001, decay=1e-6),\n",
        "                 metrics=['accuracy'])\n",
        "\n",
        "   # Data augmentation\n",
        "   datagen = ImageDataGenerator(\n",
        "       # ... (parámetros de aumento de datos)\n",
        "   )\n",
        "\n",
        "   datagen.fit(train_images)\n",
        "\n",
        "   # Aplicar aumento de datos durante el entrenamiento\n",
        "   early_stopping = EarlyStopping(monitor='val_loss', mode='min', verbose=1, patience=8, restore_best_weights=True)\n",
        "\n",
        "   history = model.fit(\n",
        "       datagen.flow(train_images, train_labels, batch_size=50),\n",
        "       steps_per_epoch=len(train_images) // 50,\n",
        "       epochs=70,\n",
        "       validation_data=(val_images, val_labels),\n",
        "       callbacks=[early_stopping]\n",
        "   )\n",
        "\n",
        "   test_loss, test_acc = model.evaluate(test_images, test_labels)\n",
        "   print(\"Test accuracy: \", test_acc)\n",
        "   ```\n",
        "\n",
        "   - En el código final, hemos mejorado el proceso de entrenamiento utilizando el optimizador Adam con una tasa de aprendizaje más baja, implementando un generador de aumento de datos (ImageDataGenerator) y añadiendo el EarlyStopping para detener el entrenamiento si no hay mejora.\n",
        "\n"
      ]
    },
    {
      "cell_type": "markdown",
      "source": [
        "## **Organización del proyecto**\n",
        "\n",
        "Esta práctica ha sido un verdadero reto para nosotras, pues cada vez el nivel de las prácticas es mayor, y hemos querido mantener el nivel de nuestras anteriores.\n",
        "\n",
        "Es por ello que la organización de nuestro equipo ha sido similar ha como lo veniamos haciendo, hemos llevado a cabo la práctica\n",
        "\n",
        "\n",
        "La práctica ha supuesto un reto para nosotras. Comenzamos con el código, que realizamos basándonos en la práctica del primer ejemplo de una red neuronal. Con eso ya teníamos la base para empezar a analizar el proyecto y desarrollar la memoria.\n",
        "Al querer ejecutar los 8 modelos hubo algunas complicaciones, optamos por multiples opciones, como un swich un bucle, hasta que dimos con la idea de la función. La función nos facilito y optimizó el porceso pero a su vez fue mas difícil de identificar que varibales tendrían que salir de la funcion para luego poder llegar a graficar ya que al tener que ejecutar 10 veces cada modelo no podíamos graficar dentro de la función.\n",
        "Tras conseguir superar el mayor obstáculo nuestra siguiente tarea fue implementar nuestra red neuronal para poder realizar los ejercicios requeridos en la práctica, los metodos usados los redactamos posteriormente asi como interpetamos los resultdos obtenidos.\n",
        "\n",
        "\n",
        "La gran parte del trabajo la hemos realizado juntas en varias reuniones a lo largo de la semana. Estamos bastante acostumbadas a trabajar en grupo y sabemos los fuertes de cada una pero sobre todo sabemos organizarnos para que el trabajo que no podemos hacer en las reuniones quede repatido de forma equitativa.\n",
        "\n",
        "Exactamente no sabriamos decir que ha hecho cada una porque aunque inevitablemente alguna le ha dedicado mas tiempo a una cosa u otra siempre ha participado para ayudar o completar el trabajo de otra.\n",
        "\n",
        "En resumen Lucía y Julia se han dedicado mayoritariamente a la creación de la red neuronal aunque también han formado parte del análisis de resultados de la red, mientras que Susana ha dedicado más tiempo a el análisis de resultados pero, a su vez ha trabajado con la creación de la red neuronal. Pero como ya hemos mencionado antes el trabajo se ha hecho a lo largo de varias reuniones, todas participando en todo."
      ],
      "metadata": {
        "id": "UW9-ZMpo1jmP"
      }
    }
  ],
  "metadata": {
    "accelerator": "GPU",
    "colab": {
      "provenance": [],
      "include_colab_link": true
    },
    "kernelspec": {
      "display_name": "Python 3",
      "name": "python3"
    },
    "language_info": {
      "name": "python"
    }
  },
  "nbformat": 4,
  "nbformat_minor": 0
}