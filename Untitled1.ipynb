{
  "nbformat": 4,
  "nbformat_minor": 0,
  "metadata": {
    "colab": {
      "provenance": [],
      "authorship_tag": "ABX9TyMutmD0MpGL/YHoMwRGgrXm",
      "include_colab_link": true
    },
    "kernelspec": {
      "name": "python3",
      "display_name": "Python 3"
    },
    "language_info": {
      "name": "python"
    }
  },
  "cells": [
    {
      "cell_type": "markdown",
      "metadata": {
        "id": "view-in-github",
        "colab_type": "text"
      },
      "source": [
        "<a href=\"https://colab.research.google.com/github/Luciavaldera/APRENDIZAJE_AUTOMATICO_23_24/blob/main/Untitled1.ipynb\" target=\"_parent\"><img src=\"https://colab.research.google.com/assets/colab-badge.svg\" alt=\"Open In Colab\"/></a>"
      ]
    },
    {
      "cell_type": "markdown",
      "source": [
        " PONER ENUNCIADO"
      ],
      "metadata": {
        "id": "AgfiOyQa6OMB"
      }
    },
    {
      "cell_type": "code",
      "execution_count": null,
      "metadata": {
        "colab": {
          "base_uri": "https://localhost:8080/"
        },
        "id": "3w5os4dE3a-e",
        "outputId": "679c8de9-aaaa-40e2-e037-5b0a8ade3afe"
      },
      "outputs": [
        {
          "output_type": "stream",
          "name": "stdout",
          "text": [
            "Colab only includes TensorFlow 2.x; %tensorflow_version has no effect.\n",
            "GPU Available: []\n",
            "2.13.0\n"
          ]
        }
      ],
      "source": [
        "# 1._ IMPORTAMOS KERAS\n",
        "%tensorflow_version 2.x # Aseguramos que es la versión correcta de tensorflow >2 libreria interna que usa keras y ejecuta de forma eficiente los tensores (espacio vectorial de n dimensiones)\n",
        "import tensorflow as tf #instacia de tensor flow\n",
        "from tensorflow import keras #importamos keras\n",
        "# print(tf.keras.__version__) #imprimimos la version que estamos usando\n",
        "print(\"GPU Available:\", tf.config.list_physical_devices('GPU')) #comprobamos si tenemos GPUs disponibles\n",
        "print(tf.__version__) #ver que version hemos estado usando\n",
        "\n",
        "#necesitamos una version superior a la 2"
      ]
    },
    {
      "cell_type": "code",
      "source": [
        "# 2.- CARGAMOS EL CONJUNTO DE DATOS MINIST EN KERAS\n",
        "# fashion_mnist = tf.keras.datasets.fashion_mnist\n",
        "from keras.datasets import fashion_mnist #hay muchos datos pero importamos el mnist, las 70000 imagenes de ropa\n",
        "\n",
        "(train_images, train_labels), (test_images, test_labels) = fashion_mnist.load_data() #lo devuelve en dos tuplas, la primera son todas las imagenes de entenamiento con sus etiquetas y las segundas las de test con etiquetas\n"
      ],
      "metadata": {
        "colab": {
          "base_uri": "https://localhost:8080/"
        },
        "id": "6UqoIOAv5Z6x",
        "outputId": "ec1b92c2-becb-4f53-fb59-8185a3457b07"
      },
      "execution_count": null,
      "outputs": [
        {
          "output_type": "stream",
          "name": "stdout",
          "text": [
            "Downloading data from https://storage.googleapis.com/tensorflow/tf-keras-datasets/train-labels-idx1-ubyte.gz\n",
            "29515/29515 [==============================] - 0s 0us/step\n",
            "Downloading data from https://storage.googleapis.com/tensorflow/tf-keras-datasets/train-images-idx3-ubyte.gz\n",
            "26421880/26421880 [==============================] - 0s 0us/step\n",
            "Downloading data from https://storage.googleapis.com/tensorflow/tf-keras-datasets/t10k-labels-idx1-ubyte.gz\n",
            "5148/5148 [==============================] - 0s 0us/step\n",
            "Downloading data from https://storage.googleapis.com/tensorflow/tf-keras-datasets/t10k-images-idx3-ubyte.gz\n",
            "4422102/4422102 [==============================] - 0s 0us/step\n"
          ]
        }
      ]
    },
    {
      "cell_type": "markdown",
      "source": [
        "- `train_images` y `train_labels` son el **conjunto de entrenamiento** (los datos de los que aprenderá el modelo).\n",
        "- `test_images` y `test_labels` son el conjunto de pruebas (los datos con los que testearemos el modelo ya entrenado).\n",
        "- Las imágenes están **codificadas** como matrices `Numpy`, y las etiquetas son un vector de números con valores entre el 0 y el 9 (imágenes y etiquetas tienen una correspondencia 1 a 1)"
      ],
      "metadata": {
        "id": "0RPsdKrJ7CMr"
      }
    },
    {
      "cell_type": "code",
      "source": [
        "print(train_images.shape) #cuando llamamos a una variable que tiene un tensor, y llamo al atributo shape, me da la forma de las imagenes\n",
        "#60000 matrices de 28 por 28"
      ],
      "metadata": {
        "colab": {
          "base_uri": "https://localhost:8080/"
        },
        "id": "U-hQKRzd7CoK",
        "outputId": "ea935076-05a7-42bf-f1e7-26aec39e2b78"
      },
      "execution_count": null,
      "outputs": [
        {
          "output_type": "stream",
          "name": "stdout",
          "text": [
            "(60000, 28, 28)\n"
          ]
        }
      ]
    },
    {
      "cell_type": "code",
      "source": [
        "# Vemos la matriz de la imagen número 30.000 (28x28)\n",
        "import numpy as np\n",
        "np.set_printoptions(precision=2, suppress=True, linewidth=145) #le digo a numpy que me pinte la matriz de froma ordenada, para poder ver el numero, las precisiones y como ponerlo para verlo bien\n",
        "print(np.matrix(train_images[20000])) #le pedimos la imagen 50000"
      ],
      "metadata": {
        "colab": {
          "base_uri": "https://localhost:8080/"
        },
        "id": "yZRK3tlp7aZm",
        "outputId": "58aa9c19-56a5-441a-b5c0-60172c8b9f23"
      },
      "execution_count": null,
      "outputs": [
        {
          "output_type": "stream",
          "name": "stdout",
          "text": [
            "[[  0   0   0   0   0   0   0   0   0   0   0   0   0   0   0   0   0   0   0   0   0   0   0   0   0   0   0   0]\n",
            " [  0   0   0   0   0   0   0   0   0   0   0   0   0   0   0   0   0   0   0   0   0   0   0   0   0   0   0   0]\n",
            " [  0   0   0   0   0   0   0   0   0   0   0   0   0   0   0   0   0   0   0   0   0   0   0   0   0   0   0   0]\n",
            " [  0   0   0   0   0   0   0   0   0   0   0   0   0   0   0   0   0   0   0   0   0   0   0   0   0   0   0   0]\n",
            " [  0   0   0   0   0   0   0   0   0   0   0   0   0   0   0   0   0   0   0   0   0   0   0   0   0   0   0   0]\n",
            " [  0   0   0   0   0   0   0   0   0   0   0   0   0   0   0   0   0   0   0   0   0   0   0   0   0   0   0   0]\n",
            " [  0   0   0   0   0   0   0   0   0   0   0   0   0   0   0   0   0   0   0   0   0   0   0   0   0   0   0   0]\n",
            " [  0   0   0   0   0   0   0   0   0   0   0   0   0   0   0   0   0   0   0   0   0   0   0   0   0   0   0   0]\n",
            " [  0   0   0   0   0   0   0   0   0   0   0   0   0   0   0   0   0   0   0   0   0   0   0   0   0   0   0   0]\n",
            " [  0   0   0   0   0   0   0   0   0   0   0   3   0   0  36  67  56   0   0   3   0   0   0   0   0   0  40  27]\n",
            " [  0   0   0   0   0   0   0   0   2   0   0   0   0 160 255 217 255  94   0   0   0   1   4   0   0   0  65  38]\n",
            " [  0   0   0   0   0   0   1   0   0   0   0 150 236 215 200 195 197 251 198  41   0   0   0   0   0  63 236  26]\n",
            " [  0   2   1   0   0   0   0   0  66 167 242 216 204 190 191 201 199 197 213 255 196 122  96 122 186 206 227  63]\n",
            " [  0   0   0   0   0   0  41 178 224 213 199 192 193 191 192 199 206 205 203 206 214 225 226 224 219 204 217 126]\n",
            " [  0  74 134 146 166 191 204 200 193 190 193 196 193 202 204 207 205 200 203 205 202 201 199 198 200 197 221 132]\n",
            " [ 12 164 214 217 220 216 215 209 211 208 207 205 207 209 206 206 206 206 208 207 208 206 206 207 207 203 226 150]\n",
            " [ 28   2   0  16  43  82 119 134 169 185 206 219 223 228 233 238 242 241 238 235 237 237 236 233 228 216 246 104]\n",
            " [ 33  56  43  19   0   0   0   0   0   0   0   0   0   0   8  16  13  18  21  13  11  15  20  20  22  21  60  37]\n",
            " [  0   1  13  41  75  81  68  67  57  47  38  38  32  35  38  35  37  41  37  36  38  40  47  53  61  79 114  63]\n",
            " [  0   0   0   0   1  15  31  56  66  68  82  90  81  71  62  46  34  33  38  45  46  43  30  19  14  17  22   0]\n",
            " [  0   0   0   0   0   0   0   0   0   0   0   0   0   0   0   0   0   0   0   0   0   0   0   0   0   0   0   0]\n",
            " [  0   0   0   0   0   0   0   0   0   0   0   0   0   0   0   0   0   0   0   0   0   0   0   0   0   0   0   0]\n",
            " [  0   0   0   0   0   0   0   0   0   0   0   0   0   0   0   0   0   0   0   0   0   0   0   0   0   0   0   0]\n",
            " [  0   0   0   0   0   0   0   0   0   0   0   0   0   0   0   0   0   0   0   0   0   0   0   0   0   0   0   0]\n",
            " [  0   0   0   0   0   0   0   0   0   0   0   0   0   0   0   0   0   0   0   0   0   0   0   0   0   0   0   0]\n",
            " [  0   0   0   0   0   0   0   0   0   0   0   0   0   0   0   0   0   0   0   0   0   0   0   0   0   0   0   0]\n",
            " [  0   0   0   0   0   0   0   0   0   0   0   0   0   0   0   0   0   0   0   0   0   0   0   0   0   0   0   0]\n",
            " [  0   0   0   0   0   0   0   0   0   0   0   0   0   0   0   0   0   0   0   0   0   0   0   0   0   0   0   0]]\n"
          ]
        }
      ]
    },
    {
      "cell_type": "code",
      "source": [
        "# La imagen anterior corresponde a un zapato . Hasta se puede intuir....\n",
        "train_labels[20000] #te dice la etiqueta de la imagen a la que va"
      ],
      "metadata": {
        "colab": {
          "base_uri": "https://localhost:8080/"
        },
        "id": "HVdOWsui7lGB",
        "outputId": "2020eefc-b5c6-408b-8f68-2fd7ee8e2b7b"
      },
      "execution_count": null,
      "outputs": [
        {
          "output_type": "execute_result",
          "data": {
            "text/plain": [
              "7"
            ]
          },
          "metadata": {},
          "execution_count": 23
        }
      ]
    },
    {
      "cell_type": "markdown",
      "source": [
        "Las etiquetas de las siguientes prendas de ropa son:\n",
        "\n",
        "![Captura de Pantalla 2023-10-06 a las 9.44.33.png](data:image/png;base64,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)\n",
        "\n",
        "\n"
      ],
      "metadata": {
        "id": "1oHtsa5H6RJ3"
      }
    },
    {
      "cell_type": "code",
      "source": [
        "# Veamos el elemento 50000 y pintémoslo con matplotlib\n",
        "import matplotlib.pyplot as plt # importamos la libreria matplotlib.pyplot y cogemos la imagen y la pasamos a una variable digito\n",
        "digit = train_images[20000]\n",
        "plt.imshow(digit, cmap=plt.cm.binary) # de esta forma te enseña la matriz como una imagen convirtiendolo en pixeles\n",
        "plt.show() # los valores mas altos en negro y los mas altos en blanco"
      ],
      "metadata": {
        "colab": {
          "base_uri": "https://localhost:8080/",
          "height": 430
        },
        "id": "PexewtkO8wHo",
        "outputId": "2be93e7b-30db-41c3-9953-fe125def8cd6"
      },
      "execution_count": null,
      "outputs": [
        {
          "output_type": "display_data",
          "data": {
            "text/plain": [
              "<Figure size 640x480 with 1 Axes>"
            ],
            "image/png": "[encoded data removed]"
          },
          "metadata": {}
        }
      ]
    },
    {
      "cell_type": "code",
      "source": [],
      "metadata": {
        "id": "rtJmGrjo_ozG"
      },
      "execution_count": null,
      "outputs": []
    },
    {
      "cell_type": "code",
      "source": [
        "len(train_labels) # longitud de la cantidad de etiquetas que hay"
      ],
      "metadata": {
        "colab": {
          "base_uri": "https://localhost:8080/"
        },
        "id": "A4V6beHE86gW",
        "outputId": "63556728-a1f3-4295-d2d7-7e60405b55d6"
      },
      "execution_count": null,
      "outputs": [
        {
          "output_type": "execute_result",
          "data": {
            "text/plain": [
              "60000"
            ]
          },
          "metadata": {},
          "execution_count": 14
        }
      ]
    },
    {
      "cell_type": "code",
      "source": [
        "train_labels"
      ],
      "metadata": {
        "colab": {
          "base_uri": "https://localhost:8080/"
        },
        "id": "IXe5ML3W8_Lx",
        "outputId": "17fef93d-5492-45b8-e601-3d69fd89efa1"
      },
      "execution_count": null,
      "outputs": [
        {
          "output_type": "execute_result",
          "data": {
            "text/plain": [
              "array([9, 0, 0, ..., 3, 0, 5], dtype=uint8)"
            ]
          },
          "metadata": {},
          "execution_count": 15
        }
      ]
    },
    {
      "cell_type": "code",
      "source": [
        "# Veamos el elemento 0 (que vemos que es otro zapato ) y pintémoslo con matplotlib\n",
        "import matplotlib.pyplot as plt\n",
        "digit = train_images[0]\n",
        "plt.imshow(digit, cmap=plt.cm.binary)\n",
        "plt.show()"
      ],
      "metadata": {
        "colab": {
          "base_uri": "https://localhost:8080/",
          "height": 430
        },
        "id": "0yNrkoZy9CK6",
        "outputId": "8baa405f-f2d1-4522-cf19-2d94a8ade24d"
      },
      "execution_count": null,
      "outputs": [
        {
          "output_type": "display_data",
          "data": {
            "text/plain": [
              "<Figure size 640x480 with 1 Axes>"
            ],
            "image/png": "[encoded data removed]"
          },
          "metadata": {}
        }
      ]
    },
    {
      "cell_type": "markdown",
      "source": [],
      "metadata": {
        "id": "O-SmumTU_Hxb"
      }
    },
    {
      "cell_type": "code",
      "source": [
        "test_images.shape #imagenes de test"
      ],
      "metadata": {
        "colab": {
          "base_uri": "https://localhost:8080/"
        },
        "id": "gAH9_Qan_ICi",
        "outputId": "21e9e496-57f3-4b5b-b93c-ef76f58a7e32"
      },
      "execution_count": null,
      "outputs": [
        {
          "output_type": "execute_result",
          "data": {
            "text/plain": [
              "(10000, 28, 28)"
            ]
          },
          "metadata": {},
          "execution_count": 18
        }
      ]
    },
    {
      "cell_type": "code",
      "source": [
        "len(test_labels) # misma cantidad de etiquetas"
      ],
      "metadata": {
        "colab": {
          "base_uri": "https://localhost:8080/"
        },
        "id": "BxKAwd0N_O-v",
        "outputId": "fe68d240-644d-4d32-d6e4-138f13a40d51"
      },
      "execution_count": null,
      "outputs": [
        {
          "output_type": "execute_result",
          "data": {
            "text/plain": [
              "10000"
            ]
          },
          "metadata": {},
          "execution_count": 19
        }
      ]
    },
    {
      "cell_type": "code",
      "source": [
        "test_labels.shape, test_labels # pedimos que pinte las etiquetas"
      ],
      "metadata": {
        "colab": {
          "base_uri": "https://localhost:8080/"
        },
        "id": "_4FTBOGD_Rj4",
        "outputId": "0fb13809-0c45-4d7b-f26b-817b531e7767"
      },
      "execution_count": null,
      "outputs": [
        {
          "output_type": "execute_result",
          "data": {
            "text/plain": [
              "((10000,), array([9, 2, 1, ..., 8, 1, 5], dtype=uint8))"
            ]
          },
          "metadata": {},
          "execution_count": 20
        }
      ]
    },
    {
      "cell_type": "code",
      "source": [
        "# Veamos el elemento 0 de test (que vemos que es un zapato también) y pintémoslo con matplotlib\n",
        "import matplotlib.pyplot as plt\n",
        "digit = test_images[0]\n",
        "plt.imshow(digit, cmap=plt.cm.binary)\n",
        "plt.show()"
      ],
      "metadata": {
        "colab": {
          "base_uri": "https://localhost:8080/",
          "height": 430
        },
        "id": "GAiMy5Ho_bLM",
        "outputId": "02be6ea3-e532-4ec5-85b0-6da1c5667d41"
      },
      "execution_count": null,
      "outputs": [
        {
          "output_type": "display_data",
          "data": {
            "text/plain": [
              "<Figure size 640x480 with 1 Axes>"
            ],
            "image/png": "[encoded data removed]"
          },
          "metadata": {}
        }
      ]
    },
    {
      "cell_type": "code",
      "source": [
        "from keras import models\n",
        "from keras import layers\n",
        "#PRIMER CASO\n",
        "# Crear un modelo secuencial\n",
        "network = models.Sequential()\n",
        "\n",
        "# Agregar una capa con 10 neuronas y activación ReLU\n",
        "network.add(layers.Dense(10, activation='relu', input_shape=(28*28,)))\n",
        "\n",
        "# Agregar la capa de salida con 10 neuronas (para clasificación de 10 clases) y activación softmax\n",
        "network.add(layers.Dense(10, activation='softmax'))\n",
        "\n",
        "network.compile(optimizer='sgd',\n",
        "                loss='categorical_crossentropy',\n",
        "                metrics=['accuracy'])\n",
        "network.summary()"
      ],
      "metadata": {
        "colab": {
          "base_uri": "https://localhost:8080/"
        },
        "id": "LVz6HQkg__9K",
        "outputId": "22ab3e1c-ca6c-4c98-a88f-99eb03d4aff4"
      },
      "execution_count": null,
      "outputs": [
        {
          "output_type": "stream",
          "name": "stdout",
          "text": [
            "Model: \"sequential_4\"\n",
            "_________________________________________________________________\n",
            " Layer (type)                Output Shape              Param #   \n",
            "=================================================================\n",
            " dense_8 (Dense)             (None, 10)                7850      \n",
            "                                                                 \n",
            " dense_9 (Dense)             (None, 10)                110       \n",
            "                                                                 \n",
            "=================================================================\n",
            "Total params: 7960 (31.09 KB)\n",
            "Trainable params: 7960 (31.09 KB)\n",
            "Non-trainable params: 0 (0.00 Byte)\n",
            "_________________________________________________________________\n"
          ]
        }
      ]
    },
    {
      "cell_type": "markdown",
      "source": [
        "falta entrenar 5 epocas\n"
      ],
      "metadata": {
        "id": "UAddjjRBGKtL"
      }
    },
    {
      "cell_type": "code",
      "source": [
        "#SEGUNDO CASO\n",
        "# Crear un modelo secuencial\n",
        "network = models.Sequential()\n",
        "\n",
        "# Agregar una capa con 10 neuronas y activación ReLU\n",
        "network.add(layers.Dense(10, activation='relu', input_shape=(28*28,)))\n",
        "\n",
        "# Agregar la capa de salida con 10 neuronas (para clasificación de 10 clases) y activación softmax\n",
        "network.add(layers.Dense(10, activation='softmax'))\n",
        "\n",
        "network.compile(optimizer='rmsprop',\n",
        "                loss='categorical_crossentropy',\n",
        "                metrics=['accuracy'])\n",
        "network.summary()\n"
      ],
      "metadata": {
        "colab": {
          "base_uri": "https://localhost:8080/",
          "height": 980
        },
        "id": "8wrw9BLfFxn0",
        "outputId": "2d985d6c-c6a4-4f30-f9e7-6e6bf1ab66f8"
      },
      "execution_count": null,
      "outputs": [
        {
          "output_type": "stream",
          "name": "stdout",
          "text": [
            "Model: \"sequential_6\"\n",
            "_________________________________________________________________\n",
            " Layer (type)                Output Shape              Param #   \n",
            "=================================================================\n",
            " dense_12 (Dense)            (None, 10)                7850      \n",
            "                                                                 \n",
            " dense_13 (Dense)            (None, 10)                110       \n",
            "                                                                 \n",
            "=================================================================\n",
            "Total params: 7960 (31.09 KB)\n",
            "Trainable params: 7960 (31.09 KB)\n",
            "Non-trainable params: 0 (0.00 Byte)\n",
            "_________________________________________________________________\n",
            "Epoch 1/5\n"
          ]
        },
        {
          "output_type": "error",
          "ename": "ValueError",
          "evalue": "ignored",
          "traceback": [
            "\u001b[0;31m---------------------------------------------------------------------------\u001b[0m",
            "\u001b[0;31mValueError\u001b[0m                                Traceback (most recent call last)",
            "\u001b[0;32m<ipython-input-55-b39351b32a96>\u001b[0m in \u001b[0;36m<cell line: 15>\u001b[0;34m()\u001b[0m\n\u001b[1;32m     13\u001b[0m                 metrics=['accuracy'])\n\u001b[1;32m     14\u001b[0m \u001b[0mnetwork\u001b[0m\u001b[0;34m.\u001b[0m\u001b[0msummary\u001b[0m\u001b[0;34m(\u001b[0m\u001b[0;34m)\u001b[0m\u001b[0;34m\u001b[0m\u001b[0;34m\u001b[0m\u001b[0m\n\u001b[0;32m---> 15\u001b[0;31m \u001b[0mnetwork\u001b[0m\u001b[0;34m.\u001b[0m\u001b[0mfit\u001b[0m\u001b[0;34m(\u001b[0m\u001b[0mtrain_images\u001b[0m\u001b[0;34m,\u001b[0m \u001b[0mtrain_labels\u001b[0m\u001b[0;34m,\u001b[0m \u001b[0mepochs\u001b[0m\u001b[0;34m=\u001b[0m\u001b[0;36m5\u001b[0m\u001b[0;34m,\u001b[0m \u001b[0mbatch_size\u001b[0m\u001b[0;34m=\u001b[0m\u001b[0;36m128\u001b[0m\u001b[0;34m)\u001b[0m\u001b[0;34m\u001b[0m\u001b[0;34m\u001b[0m\u001b[0m\n\u001b[0m",
            "\u001b[0;32m/usr/local/lib/python3.10/dist-packages/keras/src/utils/traceback_utils.py\u001b[0m in \u001b[0;36merror_handler\u001b[0;34m(*args, **kwargs)\u001b[0m\n\u001b[1;32m     68\u001b[0m             \u001b[0;31m# To get the full stack trace, call:\u001b[0m\u001b[0;34m\u001b[0m\u001b[0;34m\u001b[0m\u001b[0m\n\u001b[1;32m     69\u001b[0m             \u001b[0;31m# `tf.debugging.disable_traceback_filtering()`\u001b[0m\u001b[0;34m\u001b[0m\u001b[0;34m\u001b[0m\u001b[0m\n\u001b[0;32m---> 70\u001b[0;31m             \u001b[0;32mraise\u001b[0m \u001b[0me\u001b[0m\u001b[0;34m.\u001b[0m\u001b[0mwith_traceback\u001b[0m\u001b[0;34m(\u001b[0m\u001b[0mfiltered_tb\u001b[0m\u001b[0;34m)\u001b[0m \u001b[0;32mfrom\u001b[0m \u001b[0;32mNone\u001b[0m\u001b[0;34m\u001b[0m\u001b[0;34m\u001b[0m\u001b[0m\n\u001b[0m\u001b[1;32m     71\u001b[0m         \u001b[0;32mfinally\u001b[0m\u001b[0;34m:\u001b[0m\u001b[0;34m\u001b[0m\u001b[0;34m\u001b[0m\u001b[0m\n\u001b[1;32m     72\u001b[0m             \u001b[0;32mdel\u001b[0m \u001b[0mfiltered_tb\u001b[0m\u001b[0;34m\u001b[0m\u001b[0;34m\u001b[0m\u001b[0m\n",
            "\u001b[0;32m/usr/local/lib/python3.10/dist-packages/keras/src/engine/training.py\u001b[0m in \u001b[0;36mtf__train_function\u001b[0;34m(iterator)\u001b[0m\n\u001b[1;32m     13\u001b[0m                 \u001b[0;32mtry\u001b[0m\u001b[0;34m:\u001b[0m\u001b[0;34m\u001b[0m\u001b[0;34m\u001b[0m\u001b[0m\n\u001b[1;32m     14\u001b[0m                     \u001b[0mdo_return\u001b[0m \u001b[0;34m=\u001b[0m \u001b[0;32mTrue\u001b[0m\u001b[0;34m\u001b[0m\u001b[0;34m\u001b[0m\u001b[0m\n\u001b[0;32m---> 15\u001b[0;31m                     \u001b[0mretval_\u001b[0m \u001b[0;34m=\u001b[0m \u001b[0mag__\u001b[0m\u001b[0;34m.\u001b[0m\u001b[0mconverted_call\u001b[0m\u001b[0;34m(\u001b[0m\u001b[0mag__\u001b[0m\u001b[0;34m.\u001b[0m\u001b[0mld\u001b[0m\u001b[0;34m(\u001b[0m\u001b[0mstep_function\u001b[0m\u001b[0;34m)\u001b[0m\u001b[0;34m,\u001b[0m \u001b[0;34m(\u001b[0m\u001b[0mag__\u001b[0m\u001b[0;34m.\u001b[0m\u001b[0mld\u001b[0m\u001b[0;34m(\u001b[0m\u001b[0mself\u001b[0m\u001b[0;34m)\u001b[0m\u001b[0;34m,\u001b[0m \u001b[0mag__\u001b[0m\u001b[0;34m.\u001b[0m\u001b[0mld\u001b[0m\u001b[0;34m(\u001b[0m\u001b[0miterator\u001b[0m\u001b[0;34m)\u001b[0m\u001b[0;34m)\u001b[0m\u001b[0;34m,\u001b[0m \u001b[0;32mNone\u001b[0m\u001b[0;34m,\u001b[0m \u001b[0mfscope\u001b[0m\u001b[0;34m)\u001b[0m\u001b[0;34m\u001b[0m\u001b[0;34m\u001b[0m\u001b[0m\n\u001b[0m\u001b[1;32m     16\u001b[0m                 \u001b[0;32mexcept\u001b[0m\u001b[0;34m:\u001b[0m\u001b[0;34m\u001b[0m\u001b[0;34m\u001b[0m\u001b[0m\n\u001b[1;32m     17\u001b[0m                     \u001b[0mdo_return\u001b[0m \u001b[0;34m=\u001b[0m \u001b[0;32mFalse\u001b[0m\u001b[0;34m\u001b[0m\u001b[0;34m\u001b[0m\u001b[0m\n",
            "\u001b[0;31mValueError\u001b[0m: in user code:\n\n    File \"/usr/local/lib/python3.10/dist-packages/keras/src/engine/training.py\", line 1338, in train_function  *\n        return step_function(self, iterator)\n    File \"/usr/local/lib/python3.10/dist-packages/keras/src/engine/training.py\", line 1322, in step_function  **\n        outputs = model.distribute_strategy.run(run_step, args=(data,))\n    File \"/usr/local/lib/python3.10/dist-packages/keras/src/engine/training.py\", line 1303, in run_step  **\n        outputs = model.train_step(data)\n    File \"/usr/local/lib/python3.10/dist-packages/keras/src/engine/training.py\", line 1081, in train_step\n        loss = self.compute_loss(x, y, y_pred, sample_weight)\n    File \"/usr/local/lib/python3.10/dist-packages/keras/src/engine/training.py\", line 1139, in compute_loss\n        return self.compiled_loss(\n    File \"/usr/local/lib/python3.10/dist-packages/keras/src/engine/compile_utils.py\", line 265, in __call__\n        loss_value = loss_obj(y_t, y_p, sample_weight=sw)\n    File \"/usr/local/lib/python3.10/dist-packages/keras/src/losses.py\", line 142, in __call__\n        losses = call_fn(y_true, y_pred)\n    File \"/usr/local/lib/python3.10/dist-packages/keras/src/losses.py\", line 268, in call  **\n        return ag_fn(y_true, y_pred, **self._fn_kwargs)\n    File \"/usr/local/lib/python3.10/dist-packages/keras/src/losses.py\", line 2122, in categorical_crossentropy\n        return backend.categorical_crossentropy(\n    File \"/usr/local/lib/python3.10/dist-packages/keras/src/backend.py\", line 5560, in categorical_crossentropy\n        target.shape.assert_is_compatible_with(output.shape)\n\n    ValueError: Shapes (None, 10, 2, 2) and (None, 10) are incompatible\n"
          ]
        }
      ]
    },
    {
      "cell_type": "code",
      "source": [
        "#TERCER CASO\n",
        "# Crear un modelo secuencial\n",
        "network = models.Sequential()\n",
        "\n",
        "# Agregar una capa con 10 neuronas y activación ReLU\n",
        "network.add(layers.Dense(10, activation='sigmoid', input_shape=(28*28,)))\n",
        "\n",
        "# Agregar la capa de salida con 10 neuronas (para clasificación de 10 clases) y activación softmax\n",
        "network.add(layers.Dense(10, activation='softmax'))\n",
        "\n",
        "network.compile(optimizer='sgd',\n",
        "                loss='categorical_crossentropy',\n",
        "                metrics=['accuracy'])\n",
        "network.summary()\n"
      ],
      "metadata": {
        "id": "hIhZmN1XHNXu"
      },
      "execution_count": null,
      "outputs": []
    },
    {
      "cell_type": "code",
      "source": [],
      "metadata": {
        "id": "GnuNmBvyMUgV"
      },
      "execution_count": null,
      "outputs": []
    },
    {
      "cell_type": "code",
      "source": [
        "#CUARTO CASO\n",
        "# Crear un modelo secuencial\n",
        "network = models.Sequential()\n",
        "\n",
        "# Agregar una capa con 10 neuronas y activación ReLU\n",
        "network.add(layers.Dense(10, activation='sigmoid', input_shape=(28*28,)))\n",
        "\n",
        "# Agregar la capa de salida con 10 neuronas (para clasificación de 10 clases) y activación softmax\n",
        "network.add(layers.Dense(10, activation='softmax'))\n",
        "\n",
        "network.compile(optimizer='rmsprop',\n",
        "                loss='categorical_crossentropy',\n",
        "                metrics=['accuracy'])\n",
        "network.summary()"
      ],
      "metadata": {
        "id": "UjjnF8iMHSEx"
      },
      "execution_count": null,
      "outputs": []
    },
    {
      "cell_type": "code",
      "source": [
        "#QUINTO CASO\n",
        "# Crear un modelo secuencial\n",
        "network = models.Sequential()\n",
        "\n",
        "# Agregar una capa con 512 neuronas y activación ReLU\n",
        "network.add(layers.Dense(512, activation='relu', input_shape=(28*28,)))\n",
        "\n",
        "# Agregar la capa de salida con 512 neuronas (para clasificación de 10 clases) y activación softmax\n",
        "network.add(layers.Dense(512, activation='softmax'))\n",
        "\n",
        "network.compile(optimizer='sgd',\n",
        "                loss='categorical_crossentropy',\n",
        "                metrics=['accuracy'])\n",
        "network.summary()"
      ],
      "metadata": {
        "id": "oxp1Nq2tHZ3V"
      },
      "execution_count": null,
      "outputs": []
    },
    {
      "cell_type": "code",
      "source": [
        "#SEXTO CASO\n",
        "# Crear un modelo secuencial\n",
        "network = models.Sequential()\n",
        "\n",
        "# Agregar una capa con 512 neuronas y activación ReLU\n",
        "network.add(layers.Dense(512, activation='relu', input_shape=(28*28,)))\n",
        "\n",
        "# Agregar la capa de salida con 512 neuronas (para clasificación de 10 clases) y activación softmax\n",
        "network.add(layers.Dense(512, activation='softmax'))\n",
        "\n",
        "network.compile(optimizer='rmsprop',\n",
        "                loss='categorical_crossentropy',\n",
        "                metrics=['accuracy'])\n",
        "network.summary()"
      ],
      "metadata": {
        "id": "snk_eEcpHlF8"
      },
      "execution_count": null,
      "outputs": []
    },
    {
      "cell_type": "code",
      "source": [
        "#SEPTIMO CASO\n",
        "# Crear un modelo secuencial\n",
        "network = models.Sequential()\n",
        "\n",
        "# Agregar una capa con 512 neuronas y activación ReLU\n",
        "network.add(layers.Dense(512, activation='sigmoid', input_shape=(28*28,)))\n",
        "\n",
        "# Agregar la capa de salida con 512 neuronas (para clasificación de 10 clases) y activación softmax\n",
        "network.add(layers.Dense(512, activation='softmax'))\n",
        "\n",
        "network.compile(optimizer='sgd',\n",
        "                loss='categorical_crossentropy',\n",
        "                metrics=['accuracy'])\n",
        "network.summary()"
      ],
      "metadata": {
        "id": "6uDUobJlHuTw"
      },
      "execution_count": null,
      "outputs": []
    },
    {
      "cell_type": "code",
      "source": [
        "#OCTAVO CASO\n",
        "# Crear un modelo secuencial\n",
        "network = models.Sequential()\n",
        "\n",
        "# Agregar una capa con 512 neuronas y activación ReLU\n",
        "network.add(layers.Dense(512, activation='sigmoid', input_shape=(28*28,)))\n",
        "\n",
        "# Agregar la capa de salida con 512 neuronas (para clasificación de 10 clases) y activación softmax\n",
        "network.add(layers.Dense(512, activation='softmax'))\n",
        "\n",
        "network.compile(optimizer='rmsprop',\n",
        "                loss='categorical_crossentropy',\n",
        "                metrics=['accuracy'])\n",
        "network.summary()"
      ],
      "metadata": {
        "id": "UZ5z8t4BH3My"
      },
      "execution_count": null,
      "outputs": []
    },
    {
      "cell_type": "code",
      "source": [
        "##### FALTA LO DE LAS 5 EPOCAS"
      ],
      "metadata": {
        "id": "XBacLAluH45z"
      },
      "execution_count": null,
      "outputs": []
    },
    {
      "cell_type": "markdown",
      "source": [
        "Explicar la salida de la llamada model.summary() de cada uno de los 8 casos\n",
        "3. Analizar e interpretar los resultados del caso 2 y el 7 frente a sus originales si se\n",
        "multiplica por 5 las épocas de entrenamiento (25)\n",
        "4. Evaluar cada uno de los 8 modelos comparando el rendimiento del modelo en\n",
        "el conjunto de datos de prueba\n",
        "\n"
      ],
      "metadata": {
        "id": "F9K780-FJQGt"
      }
    },
    {
      "cell_type": "code",
      "source": [
        "# 5.- PREPARAMOS LOS DATOS DE IMAGEN CON ALGUNA TRANSFORMACIÓN. NORMALIZACION\n",
        "# Los tensores transformados tienen la misma cantidad de datos total que el\n",
        "# tensor inicial\n",
        "train_images = train_images.reshape((60000, 28 * 28))\n",
        "print(train_images)\n",
        "print(len(train_images))\n",
        "print(train_images.shape)\n",
        "np.set_printoptions(precision=2, suppress=True, linewidth=145)\n",
        "print(np.matrix(train_images[5000]))"
      ],
      "metadata": {
        "colab": {
          "base_uri": "https://localhost:8080/"
        },
        "id": "M5yFx61yJVUH",
        "outputId": "8f3d7921-e1e0-48b4-f999-d4f84ee1d024"
      },
      "execution_count": null,
      "outputs": [
        {
          "output_type": "stream",
          "name": "stdout",
          "text": [
            "[[0. 0. 0. ... 0. 0. 0.]\n",
            " [0. 0. 0. ... 0. 0. 0.]\n",
            " [0. 0. 0. ... 0. 0. 0.]\n",
            " ...\n",
            " [0. 0. 0. ... 0. 0. 0.]\n",
            " [0. 0. 0. ... 0. 0. 0.]\n",
            " [0. 0. 0. ... 0. 0. 0.]]\n",
            "60000\n",
            "(60000, 784)\n",
            "[[0.   0.   0.   0.   0.   0.   0.   0.   0.   0.   0.   0.   0.   0.   0.   0.   0.   0.   0.   0.   0.   0.   0.   0.   0.   0.   0.   0.\n",
            "  0.   0.   0.   0.   0.   0.   0.   0.   0.   0.   0.   0.17 0.5  0.71 0.73 0.63 0.47 0.22 0.   0.   0.   0.   0.   0.   0.   0.   0.   0.\n",
            "  0.   0.   0.   0.   0.   0.   0.   0.   0.   0.16 0.78 0.98 1.   0.98 0.98 0.97 1.   0.99 0.84 0.39 0.   0.   0.   0.   0.   0.   0.   0.\n",
            "  0.   0.   0.   0.   0.   0.   0.01 0.   0.   0.91 0.99 0.93 0.94 0.92 0.93 0.92 0.93 0.93 1.   0.89 0.   0.   0.   0.   0.   0.   0.   0.\n",
            "  0.   0.   0.   0.   0.   0.01 0.   0.   0.06 0.82 0.88 0.84 0.69 0.85 0.85 0.76 0.77 0.89 0.87 0.82 0.2  0.   0.   0.01 0.   0.   0.   0.\n",
            "  0.   0.   0.   0.   0.01 0.   0.   0.78 0.9  0.91 0.9  0.96 0.8  0.86 0.99 0.96 0.81 0.76 0.87 0.91 0.93 0.92 0.   0.   0.01 0.   0.   0.\n",
            "  0.   0.   0.   0.   0.   0.   0.54 0.92 0.8  0.82 0.79 0.82 0.92 0.75 0.92 0.85 0.84 0.93 0.94 0.8  0.74 0.88 0.6  0.   0.   0.   0.   0.\n",
            "  0.   0.   0.   0.   0.   0.   0.76 0.79 0.78 0.82 0.79 0.76 0.8  0.76 0.72 0.85 0.91 0.77 0.67 0.71 0.76 0.8  0.78 0.   0.   0.   0.   0.\n",
            "  0.   0.   0.   0.   0.   0.01 0.83 0.8  0.74 0.74 0.77 0.78 0.78 0.79 0.77 0.85 0.7  0.65 0.72 0.85 0.77 0.79 0.86 0.12 0.   0.   0.   0.\n",
            "  0.   0.   0.   0.   0.   0.13 0.88 0.78 0.76 0.75 0.74 0.75 0.77 0.75 0.67 0.79 0.75 0.79 0.76 0.78 0.79 0.82 0.89 0.2  0.   0.   0.   0.\n",
            "  0.   0.   0.   0.   0.   0.27 0.88 0.82 0.83 0.78 0.75 0.77 0.8  0.77 0.71 0.83 0.77 0.76 0.75 0.81 0.86 0.82 0.9  0.36 0.   0.   0.   0.\n",
            "  0.   0.   0.   0.   0.   0.44 0.87 0.89 0.99 0.82 0.77 0.8  0.83 0.81 0.72 0.85 0.81 0.82 0.8  0.84 0.96 0.88 0.89 0.59 0.   0.   0.   0.\n",
            "  0.   0.   0.   0.   0.   0.55 0.88 0.88 1.   0.79 0.81 0.83 0.82 0.83 0.75 0.84 0.79 0.81 0.81 0.87 1.   0.9  0.86 0.75 0.   0.   0.   0.\n",
            "  0.   0.   0.   0.   0.   0.71 0.89 0.88 1.   0.78 0.8  0.81 0.84 0.84 0.75 0.85 0.81 0.8  0.8  0.86 0.95 0.88 0.84 0.92 0.   0.   0.   0.\n",
            "  0.   0.   0.   0.   0.   0.88 0.87 0.89 1.   0.82 0.81 0.82 0.84 0.82 0.75 0.84 0.81 0.8  0.82 0.83 0.98 0.89 0.84 1.   0.15 0.   0.   0.\n",
            "  0.   0.   0.   0.   0.   0.98 0.91 0.94 0.94 0.83 0.8  0.82 0.8  0.83 0.77 0.84 0.82 0.82 0.84 0.84 0.94 0.91 0.86 1.   0.32 0.   0.   0.\n",
            "  0.   0.   0.   0.   0.   0.97 0.93 0.97 0.94 0.8  0.78 0.82 0.81 0.84 0.76 0.84 0.83 0.82 0.83 0.83 0.95 0.95 0.88 1.   0.26 0.   0.   0.\n",
            "  0.   0.   0.   0.   0.   0.97 0.9  0.99 0.89 0.78 0.83 0.79 0.83 0.84 0.71 0.84 0.83 0.81 0.79 0.86 0.81 0.97 0.87 0.93 0.41 0.   0.   0.\n",
            "  0.   0.   0.   0.   0.04 0.96 0.86 0.98 0.8  0.78 0.82 0.79 0.82 0.83 0.74 0.84 0.81 0.82 0.78 0.83 0.6  0.94 0.82 0.86 0.55 0.   0.   0.\n",
            "  0.   0.   0.   0.   0.08 1.   0.87 0.93 0.72 0.82 0.75 0.81 0.82 0.82 0.74 0.84 0.83 0.82 0.75 0.89 0.61 0.89 0.93 0.95 0.65 0.   0.   0.\n",
            "  0.   0.   0.   0.   0.15 0.96 0.89 0.95 0.59 0.77 0.74 0.8  0.82 0.82 0.72 0.84 0.84 0.79 0.72 0.84 0.57 0.85 0.93 0.88 0.6  0.   0.   0.\n",
            "  0.   0.   0.   0.   0.23 0.94 0.89 1.   0.62 0.76 0.76 0.8  0.82 0.84 0.71 0.81 0.85 0.78 0.76 0.83 0.62 0.86 0.93 0.85 0.59 0.   0.   0.\n",
            "  0.   0.   0.   0.   0.27 0.91 0.89 0.95 0.55 0.78 0.76 0.8  0.82 0.82 0.71 0.8  0.83 0.8  0.77 0.85 0.62 0.7  1.   0.85 0.61 0.   0.   0.\n",
            "  0.   0.   0.   0.   0.32 0.88 0.88 0.83 0.54 0.86 0.73 0.79 0.84 0.81 0.77 0.89 0.83 0.78 0.75 0.84 0.72 0.35 1.   0.83 0.58 0.   0.   0.\n",
            "  0.   0.   0.   0.   0.36 0.82 0.9  0.62 0.45 0.8  0.73 0.82 0.82 0.81 0.76 0.82 0.83 0.8  0.76 0.8  0.71 0.09 1.   0.84 0.62 0.   0.   0.\n",
            "  0.   0.   0.   0.   0.34 0.8  0.91 0.43 0.64 1.   0.84 0.88 0.87 0.82 0.77 0.84 0.88 0.87 0.83 0.86 0.85 0.   0.92 0.85 0.66 0.   0.   0.\n",
            "  0.   0.   0.   0.   0.36 0.84 0.91 0.57 0.02 0.53 0.59 0.64 0.67 0.72 0.71 0.64 0.65 0.7  0.64 0.61 0.38 0.   0.94 0.88 0.82 0.   0.   0.\n",
            "  0.   0.   0.   0.   0.17 0.64 0.81 0.55 0.   0.   0.   0.   0.   0.   0.   0.   0.   0.   0.   0.   0.   0.   0.5  0.49 0.3  0.   0.   0.  ]]\n"
          ]
        }
      ]
    },
    {
      "cell_type": "markdown",
      "source": [
        "En lugar de imprimir toda la matriz de datos transformados, se puede seleccionar una imagen individual y mostrarla."
      ],
      "metadata": {
        "id": "Ego4O_GiKf7y"
      }
    },
    {
      "cell_type": "code",
      "source": [
        "import matplotlib.pyplot as plt\n",
        "\n",
        "sample_image = train_images[5000]\n",
        "sample_image = sample_image.reshape((28, 28))\n",
        "plt.imshow(sample_image, cmap='gray')\n",
        "plt.show()\n"
      ],
      "metadata": {
        "colab": {
          "base_uri": "https://localhost:8080/",
          "height": 430
        },
        "id": "TJwyV1fhKQKQ",
        "outputId": "47ee5785-1860-4e04-a9f6-48e82c294b75"
      },
      "execution_count": null,
      "outputs": [
        {
          "output_type": "display_data",
          "data": {
            "text/plain": [
              "<Figure size 640x480 with 1 Axes>"
            ],
            "image/png": "[encoded data removed]"
          },
          "metadata": {}
        }
      ]
    },
    {
      "cell_type": "markdown",
      "source": [
        "primeros 10 elemntos de la matriz\n"
      ],
      "metadata": {
        "id": "1NL6_SkWKs9M"
      }
    },
    {
      "cell_type": "code",
      "source": [
        "print(train_images[:10])\n"
      ],
      "metadata": {
        "colab": {
          "base_uri": "https://localhost:8080/"
        },
        "id": "FEDRNQuWKot6",
        "outputId": "a3d4d6dc-4b73-4e4e-96f8-e5de20df6491"
      },
      "execution_count": null,
      "outputs": [
        {
          "output_type": "stream",
          "name": "stdout",
          "text": [
            "[[0.   0.   0.   ... 0.   0.   0.  ]\n",
            " [0.   0.   0.   ... 0.   0.   0.  ]\n",
            " [0.   0.   0.   ... 0.   0.   0.  ]\n",
            " ...\n",
            " [0.   0.   0.   ... 0.27 0.   0.  ]\n",
            " [0.   0.   0.   ... 0.   0.   0.  ]\n",
            " [0.   0.   0.   ... 0.   0.   0.  ]]\n"
          ]
        }
      ]
    },
    {
      "cell_type": "code",
      "source": [
        "train_images = train_images.astype('float32') / 255\n",
        "train_images, len(train_images), train_images.shape, train_images[3000]"
      ],
      "metadata": {
        "colab": {
          "base_uri": "https://localhost:8080/"
        },
        "id": "y6NrZrN6JuFJ",
        "outputId": "9cd8ea9f-6213-4a48-d332-987f19fd5955"
      },
      "execution_count": null,
      "outputs": [
        {
          "output_type": "execute_result",
          "data": {
            "text/plain": [
              "(array([[0., 0., 0., ..., 0., 0., 0.],\n",
              "        [0., 0., 0., ..., 0., 0., 0.],\n",
              "        [0., 0., 0., ..., 0., 0., 0.],\n",
              "        ...,\n",
              "        [0., 0., 0., ..., 0., 0., 0.],\n",
              "        [0., 0., 0., ..., 0., 0., 0.],\n",
              "        [0., 0., 0., ..., 0., 0., 0.]], dtype=float32),\n",
              " 60000,\n",
              " (60000, 784),\n",
              " array([0.  , 0.  , 0.  , 0.  , 0.  , 0.  , 0.  , 0.  , 0.  , 0.  , 0.  , 0.  , 0.47, 0.51, 0.36, 0.58, 0.12, 0.  , 0.  , 0.  , 0.  , 0.  , 0.  ,\n",
              "        0.  , 0.  , 0.  , 0.  , 0.  , 0.  , 0.  , 0.  , 0.  , 0.  , 0.  , 0.  , 0.01, 0.  , 0.  , 0.  , 0.  , 0.98, 0.78, 0.67, 0.76, 0.6 , 0.  ,\n",
              "        0.  , 0.  , 0.  , 0.01, 0.  , 0.  , 0.  , 0.  , 0.  , 0.  , 0.  , 0.  , 0.  , 0.  , 0.  , 0.  , 0.  , 0.  , 0.  , 0.17, 0.49, 0.76, 0.65,\n",
              "        0.94, 1.  , 0.85, 0.67, 0.89, 0.49, 0.24, 0.  , 0.  , 0.  , 0.  , 0.  , 0.  , 0.  , 0.  , 0.  , 0.  , 0.  , 0.  , 0.  , 0.  , 0.  , 0.38,\n",
              "        0.65, 0.61, 0.62, 0.67, 0.7 , 0.83, 0.84, 0.82, 0.77, 0.74, 0.62, 0.64, 0.62, 0.42, 0.  , 0.  , 0.  , 0.  , 0.  , 0.  , 0.  , 0.  , 0.  ,\n",
              "        0.  , 0.  , 0.  , 0.33, 0.62, 0.51, 0.46, 0.47, 0.58, 0.58, 0.57, 0.7 , 0.62, 0.68, 0.63, 0.48, 0.52, 0.56, 0.67, 0.15, 0.  , 0.  , 0.  ,\n",
              "        0.  , 0.  , 0.  , 0.  , 0.  , 0.  , 0.  , 0.  , 0.62, 0.5 , 0.46, 0.47, 0.48, 0.44, 0.36, 0.49, 0.63, 0.43, 0.5 , 0.5 , 0.51, 0.57, 0.54,\n",
              "        0.65, 0.48, 0.  , 0.  , 0.  , 0.  , 0.  , 0.  , 0.  , 0.  , 0.  , 0.  , 0.  , 0.67, 0.53, 0.47, 0.45, 0.46, 0.47, 0.42, 0.49, 0.48, 0.46,\n",
              "        0.49, 0.49, 0.47, 0.57, 0.58, 0.65, 0.58, 0.  , 0.  , 0.  , 0.  , 0.  , 0.  , 0.  , 0.  , 0.  , 0.  , 0.02, 0.67, 0.54, 0.49, 0.47, 0.46,\n",
              "        0.46, 0.4 , 0.48, 0.57, 0.44, 0.47, 0.48, 0.47, 0.6 , 0.6 , 0.61, 0.67, 0.  , 0.  , 0.  , 0.  , 0.  , 0.  , 0.  , 0.  , 0.  , 0.  , 0.12,\n",
              "        0.67, 0.51, 0.54, 0.49, 0.44, 0.42, 0.4 , 0.46, 0.54, 0.42, 0.53, 0.51, 0.62, 0.71, 0.54, 0.56, 0.73, 0.  , 0.  , 0.  , 0.  , 0.  , 0.  ,\n",
              "        0.  , 0.  , 0.  , 0.  , 0.23, 0.64, 0.45, 0.54, 0.56, 0.47, 0.4 , 0.39, 0.43, 0.46, 0.43, 0.51, 0.53, 0.67, 0.71, 0.51, 0.53, 0.75, 0.  ,\n",
              "        0.  , 0.  , 0.  , 0.  , 0.  , 0.  , 0.  , 0.  , 0.  , 0.3 , 0.63, 0.44, 0.55, 0.58, 0.5 , 0.44, 0.4 , 0.45, 0.54, 0.44, 0.51, 0.56, 0.65,\n",
              "        0.72, 0.53, 0.47, 0.73, 0.05, 0.  , 0.  , 0.  , 0.  , 0.  , 0.  , 0.  , 0.  , 0.  , 0.39, 0.58, 0.42, 0.58, 0.58, 0.53, 0.47, 0.41, 0.45,\n",
              "        0.51, 0.45, 0.53, 0.54, 0.65, 0.75, 0.54, 0.44, 0.73, 0.12, 0.  , 0.  , 0.  , 0.  , 0.  , 0.  , 0.  , 0.  , 0.  , 0.45, 0.56, 0.42, 0.62,\n",
              "        0.58, 0.51, 0.49, 0.42, 0.45, 0.48, 0.47, 0.51, 0.53, 0.63, 0.77, 0.53, 0.43, 0.71, 0.2 , 0.  , 0.  , 0.  , 0.  , 0.  , 0.  , 0.  , 0.  ,\n",
              "        0.  , 0.47, 0.55, 0.46, 0.59, 0.58, 0.51, 0.49, 0.43, 0.47, 0.56, 0.47, 0.51, 0.5 , 0.62, 0.74, 0.44, 0.42, 0.7 , 0.26, 0.  , 0.  , 0.  ,\n",
              "        0.  , 0.  , 0.  , 0.  , 0.  , 0.  , 0.49, 0.51, 0.5 , 0.44, 0.57, 0.55, 0.48, 0.44, 0.46, 0.53, 0.46, 0.52, 0.5 , 0.65, 0.62, 0.36, 0.47,\n",
              "        0.67, 0.29, 0.  , 0.  , 0.  , 0.  , 0.  , 0.  , 0.  , 0.  , 0.  , 0.49, 0.48, 0.54, 0.29, 0.55, 0.56, 0.49, 0.44, 0.44, 0.49, 0.47, 0.51,\n",
              "        0.51, 0.69, 0.47, 0.35, 0.5 , 0.64, 0.36, 0.  , 0.  , 0.  , 0.  , 0.  , 0.  , 0.  , 0.  , 0.  , 0.49, 0.48, 0.62, 0.18, 0.57, 0.56, 0.49,\n",
              "        0.44, 0.47, 0.58, 0.48, 0.51, 0.51, 0.72, 0.35, 0.29, 0.54, 0.61, 0.39, 0.  , 0.  , 0.  , 0.  , 0.  , 0.  , 0.  , 0.  , 0.  , 0.46, 0.48,\n",
              "        0.65, 0.  , 0.56, 0.58, 0.48, 0.44, 0.46, 0.54, 0.45, 0.52, 0.49, 0.72, 0.29, 0.2 , 0.6 , 0.58, 0.4 , 0.  , 0.  , 0.  , 0.  , 0.  , 0.  ,\n",
              "        0.  , 0.  , 0.  , 0.44, 0.5 , 0.64, 0.  , 0.56, 0.59, 0.48, 0.44, 0.46, 0.52, 0.47, 0.53, 0.49, 0.71, 0.35, 0.07, 0.64, 0.57, 0.42, 0.  ,\n",
              "        0.  , 0.  , 0.  , 0.  , 0.  , 0.  , 0.  , 0.  , 0.43, 0.52, 0.62, 0.  , 0.57, 0.58, 0.47, 0.42, 0.49, 0.62, 0.47, 0.53, 0.51, 0.69, 0.44,\n",
              "        0.  , 0.64, 0.56, 0.46, 0.  , 0.  , 0.  , 0.  , 0.  , 0.  , 0.  , 0.  , 0.  , 0.44, 0.55, 0.55, 0.  , 0.58, 0.58, 0.47, 0.45, 0.48, 0.54,\n",
              "        0.49, 0.54, 0.51, 0.67, 0.53, 0.  , 0.62, 0.58, 0.49, 0.  , 0.  , 0.  , 0.  , 0.  , 0.  , 0.  , 0.  , 0.  , 0.44, 0.6 , 0.44, 0.  , 0.61,\n",
              "        0.58, 0.46, 0.45, 0.49, 0.56, 0.48, 0.51, 0.51, 0.65, 0.61, 0.  , 0.51, 0.62, 0.51, 0.  , 0.  , 0.  , 0.  , 0.  , 0.  , 0.  , 0.  , 0.  ,\n",
              "        0.43, 0.61, 0.34, 0.  , 0.62, 0.57, 0.47, 0.46, 0.49, 0.6 , 0.49, 0.51, 0.48, 0.63, 0.63, 0.  , 0.38, 0.64, 0.51, 0.  , 0.  , 0.  , 0.  ,\n",
              "        0.  , 0.  , 0.  , 0.  , 0.  , 0.49, 0.56, 0.21, 0.  , 0.58, 0.55, 0.47, 0.47, 0.49, 0.53, 0.51, 0.49, 0.47, 0.6 , 0.69, 0.  , 0.3 , 0.57,\n",
              "        0.54, 0.  , 0.  , 0.  , 0.  , 0.  , 0.  , 0.  , 0.  , 0.  , 0.53, 0.59, 0.18, 0.  , 0.58, 0.54, 0.47, 0.46, 0.49, 0.56, 0.52, 0.51, 0.48,\n",
              "        0.6 , 0.67, 0.  , 0.26, 0.58, 0.6 , 0.  , 0.  , 0.  , 0.  , 0.  , 0.  , 0.  , 0.  , 0.  , 0.43, 0.68, 0.19, 0.  , 0.6 , 0.54, 0.47, 0.46,\n",
              "        0.49, 0.54, 0.51, 0.51, 0.49, 0.62, 0.65, 0.  , 0.23, 0.68, 0.5 , 0.  , 0.  , 0.  , 0.  , 0.  , 0.  , 0.  , 0.  , 0.  , 0.  , 0.  , 0.  ,\n",
              "        0.  , 0.33, 0.71, 0.58, 0.53, 0.56, 0.62, 0.57, 0.58, 0.6 , 0.78, 0.27, 0.  , 0.  , 0.  , 0.  , 0.  , 0.  , 0.  , 0.  , 0.  , 0.  , 0.  ,\n",
              "        0.  , 0.  , 0.  , 0.  , 0.  , 0.  , 0.  , 0.1 , 0.21, 0.28, 0.33, 0.38, 0.33, 0.31, 0.24, 0.05, 0.  , 0.  , 0.  , 0.  , 0.  , 0.  , 0.  ,\n",
              "        0.  , 0.  ], dtype=float32))"
            ]
          },
          "metadata": {},
          "execution_count": 34
        }
      ]
    },
    {
      "cell_type": "markdown",
      "source": [],
      "metadata": {
        "id": "Xh0TYFseLNKW"
      }
    },
    {
      "cell_type": "code",
      "source": [
        "test_images = test_images.reshape((10000, 28 * 28))\n",
        "test_images = test_images.astype('float32') / 255"
      ],
      "metadata": {
        "id": "xQLWI56YK_1A"
      },
      "execution_count": null,
      "outputs": []
    },
    {
      "cell_type": "markdown",
      "source": [
        "También tenemos que **codificar categoricamente las etiquetas**. Usaremos el **one-hot encoding**, que en resumen, consiste en transformar las etiquetas en un vector de tantos ceros como el número de etiquetas distinta, y que contiene el valor de 1 en el índice que le corresponde al valor de la etiqueta:"
      ],
      "metadata": {
        "id": "UFnR1pP9LOzf"
      }
    },
    {
      "cell_type": "code",
      "source": [
        "# 6.- PREPARACIÓN LAS ETIQUETAS\n",
        "from keras import utils\n",
        "from keras.utils import to_categorical\n",
        "\n",
        "\n",
        "train_labels = to_categorical(train_labels)\n",
        "test_labels = to_categorical(test_labels)\n",
        "train_labels[30000] # Posición 0 a 9 donde solo la 3 tiene probabilidad 1.\n",
        "# El número 30000 de entrenamiento es un 3"
      ],
      "metadata": {
        "colab": {
          "base_uri": "https://localhost:8080/"
        },
        "id": "Xvctoz-ILQku",
        "outputId": "cb60be02-3326-4331-d136-073406aeb2f5"
      },
      "execution_count": null,
      "outputs": [
        {
          "output_type": "execute_result",
          "data": {
            "text/plain": [
              "array([[[0., 1.],\n",
              "        [1., 0.]],\n",
              "\n",
              "       [[0., 1.],\n",
              "        [1., 0.]],\n",
              "\n",
              "       [[0., 1.],\n",
              "        [1., 0.]],\n",
              "\n",
              "       [[1., 0.],\n",
              "        [0., 1.]],\n",
              "\n",
              "       [[0., 1.],\n",
              "        [1., 0.]],\n",
              "\n",
              "       [[0., 1.],\n",
              "        [1., 0.]],\n",
              "\n",
              "       [[0., 1.],\n",
              "        [1., 0.]],\n",
              "\n",
              "       [[0., 1.],\n",
              "        [1., 0.]],\n",
              "\n",
              "       [[0., 1.],\n",
              "        [1., 0.]],\n",
              "\n",
              "       [[0., 1.],\n",
              "        [1., 0.]]], dtype=float32)"
            ]
          },
          "metadata": {},
          "execution_count": 48
        }
      ]
    },
    {
      "cell_type": "markdown",
      "source": [
        "esto es lo de 5 epocas\n"
      ],
      "metadata": {
        "id": "UEYHk8MjL0-E"
      }
    },
    {
      "cell_type": "code",
      "source": [
        "# 7.- ENTRENAMOS LA RED CON EL JUEGO DE DATOS DE ENTRENAMIENTO\n",
        "network.fit(train_images, train_labels, epochs=5, batch_size=128)\n"
      ],
      "metadata": {
        "colab": {
          "base_uri": "https://localhost:8080/",
          "height": 742
        },
        "id": "MeKveyuVLzbM",
        "outputId": "90701de5-c056-4948-d2ac-5005b6162729"
      },
      "execution_count": null,
      "outputs": [
        {
          "output_type": "stream",
          "name": "stdout",
          "text": [
            "Epoch 1/5\n"
          ]
        },
        {
          "output_type": "error",
          "ename": "ValueError",
          "evalue": "ignored",
          "traceback": [
            "\u001b[0;31m---------------------------------------------------------------------------\u001b[0m",
            "\u001b[0;31mValueError\u001b[0m                                Traceback (most recent call last)",
            "\u001b[0;32m<ipython-input-53-19cd4b531b26>\u001b[0m in \u001b[0;36m<cell line: 2>\u001b[0;34m()\u001b[0m\n\u001b[1;32m      1\u001b[0m \u001b[0;31m# 7.- ENTRENAMOS LA RED CON EL JUEGO DE DATOS DE ENTRENAMIENTO\u001b[0m\u001b[0;34m\u001b[0m\u001b[0;34m\u001b[0m\u001b[0m\n\u001b[0;32m----> 2\u001b[0;31m \u001b[0mnetwork\u001b[0m\u001b[0;34m.\u001b[0m\u001b[0mfit\u001b[0m\u001b[0;34m(\u001b[0m\u001b[0mtrain_images\u001b[0m\u001b[0;34m,\u001b[0m \u001b[0mtrain_labels\u001b[0m\u001b[0;34m,\u001b[0m \u001b[0mepochs\u001b[0m\u001b[0;34m=\u001b[0m\u001b[0;36m5\u001b[0m\u001b[0;34m,\u001b[0m \u001b[0mbatch_size\u001b[0m\u001b[0;34m=\u001b[0m\u001b[0;36m32\u001b[0m\u001b[0;34m)\u001b[0m\u001b[0;34m\u001b[0m\u001b[0;34m\u001b[0m\u001b[0m\n\u001b[0m",
            "\u001b[0;32m/usr/local/lib/python3.10/dist-packages/keras/src/utils/traceback_utils.py\u001b[0m in \u001b[0;36merror_handler\u001b[0;34m(*args, **kwargs)\u001b[0m\n\u001b[1;32m     68\u001b[0m             \u001b[0;31m# To get the full stack trace, call:\u001b[0m\u001b[0;34m\u001b[0m\u001b[0;34m\u001b[0m\u001b[0m\n\u001b[1;32m     69\u001b[0m             \u001b[0;31m# `tf.debugging.disable_traceback_filtering()`\u001b[0m\u001b[0;34m\u001b[0m\u001b[0;34m\u001b[0m\u001b[0m\n\u001b[0;32m---> 70\u001b[0;31m             \u001b[0;32mraise\u001b[0m \u001b[0me\u001b[0m\u001b[0;34m.\u001b[0m\u001b[0mwith_traceback\u001b[0m\u001b[0;34m(\u001b[0m\u001b[0mfiltered_tb\u001b[0m\u001b[0;34m)\u001b[0m \u001b[0;32mfrom\u001b[0m \u001b[0;32mNone\u001b[0m\u001b[0;34m\u001b[0m\u001b[0;34m\u001b[0m\u001b[0m\n\u001b[0m\u001b[1;32m     71\u001b[0m         \u001b[0;32mfinally\u001b[0m\u001b[0;34m:\u001b[0m\u001b[0;34m\u001b[0m\u001b[0;34m\u001b[0m\u001b[0m\n\u001b[1;32m     72\u001b[0m             \u001b[0;32mdel\u001b[0m \u001b[0mfiltered_tb\u001b[0m\u001b[0;34m\u001b[0m\u001b[0;34m\u001b[0m\u001b[0m\n",
            "\u001b[0;32m/usr/local/lib/python3.10/dist-packages/keras/src/engine/training.py\u001b[0m in \u001b[0;36mtf__train_function\u001b[0;34m(iterator)\u001b[0m\n\u001b[1;32m     13\u001b[0m                 \u001b[0;32mtry\u001b[0m\u001b[0;34m:\u001b[0m\u001b[0;34m\u001b[0m\u001b[0;34m\u001b[0m\u001b[0m\n\u001b[1;32m     14\u001b[0m                     \u001b[0mdo_return\u001b[0m \u001b[0;34m=\u001b[0m \u001b[0;32mTrue\u001b[0m\u001b[0;34m\u001b[0m\u001b[0;34m\u001b[0m\u001b[0m\n\u001b[0;32m---> 15\u001b[0;31m                     \u001b[0mretval_\u001b[0m \u001b[0;34m=\u001b[0m \u001b[0mag__\u001b[0m\u001b[0;34m.\u001b[0m\u001b[0mconverted_call\u001b[0m\u001b[0;34m(\u001b[0m\u001b[0mag__\u001b[0m\u001b[0;34m.\u001b[0m\u001b[0mld\u001b[0m\u001b[0;34m(\u001b[0m\u001b[0mstep_function\u001b[0m\u001b[0;34m)\u001b[0m\u001b[0;34m,\u001b[0m \u001b[0;34m(\u001b[0m\u001b[0mag__\u001b[0m\u001b[0;34m.\u001b[0m\u001b[0mld\u001b[0m\u001b[0;34m(\u001b[0m\u001b[0mself\u001b[0m\u001b[0;34m)\u001b[0m\u001b[0;34m,\u001b[0m \u001b[0mag__\u001b[0m\u001b[0;34m.\u001b[0m\u001b[0mld\u001b[0m\u001b[0;34m(\u001b[0m\u001b[0miterator\u001b[0m\u001b[0;34m)\u001b[0m\u001b[0;34m)\u001b[0m\u001b[0;34m,\u001b[0m \u001b[0;32mNone\u001b[0m\u001b[0;34m,\u001b[0m \u001b[0mfscope\u001b[0m\u001b[0;34m)\u001b[0m\u001b[0;34m\u001b[0m\u001b[0;34m\u001b[0m\u001b[0m\n\u001b[0m\u001b[1;32m     16\u001b[0m                 \u001b[0;32mexcept\u001b[0m\u001b[0;34m:\u001b[0m\u001b[0;34m\u001b[0m\u001b[0;34m\u001b[0m\u001b[0m\n\u001b[1;32m     17\u001b[0m                     \u001b[0mdo_return\u001b[0m \u001b[0;34m=\u001b[0m \u001b[0;32mFalse\u001b[0m\u001b[0;34m\u001b[0m\u001b[0;34m\u001b[0m\u001b[0m\n",
            "\u001b[0;31mValueError\u001b[0m: in user code:\n\n    File \"/usr/local/lib/python3.10/dist-packages/keras/src/engine/training.py\", line 1338, in train_function  *\n        return step_function(self, iterator)\n    File \"/usr/local/lib/python3.10/dist-packages/keras/src/engine/training.py\", line 1322, in step_function  **\n        outputs = model.distribute_strategy.run(run_step, args=(data,))\n    File \"/usr/local/lib/python3.10/dist-packages/keras/src/engine/training.py\", line 1303, in run_step  **\n        outputs = model.train_step(data)\n    File \"/usr/local/lib/python3.10/dist-packages/keras/src/engine/training.py\", line 1081, in train_step\n        loss = self.compute_loss(x, y, y_pred, sample_weight)\n    File \"/usr/local/lib/python3.10/dist-packages/keras/src/engine/training.py\", line 1139, in compute_loss\n        return self.compiled_loss(\n    File \"/usr/local/lib/python3.10/dist-packages/keras/src/engine/compile_utils.py\", line 265, in __call__\n        loss_value = loss_obj(y_t, y_p, sample_weight=sw)\n    File \"/usr/local/lib/python3.10/dist-packages/keras/src/losses.py\", line 142, in __call__\n        losses = call_fn(y_true, y_pred)\n    File \"/usr/local/lib/python3.10/dist-packages/keras/src/losses.py\", line 268, in call  **\n        return ag_fn(y_true, y_pred, **self._fn_kwargs)\n    File \"/usr/local/lib/python3.10/dist-packages/keras/src/losses.py\", line 2122, in categorical_crossentropy\n        return backend.categorical_crossentropy(\n    File \"/usr/local/lib/python3.10/dist-packages/keras/src/backend.py\", line 5560, in categorical_crossentropy\n        target.shape.assert_is_compatible_with(output.shape)\n\n    ValueError: Shapes (32, 10, 2, 2) and (32, 10) are incompatible\n"
          ]
        }
      ]
    }
  ]
}